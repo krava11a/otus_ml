{
  "cells": [
    {
      "cell_type": "markdown",
      "metadata": {
        "id": "IO1m4W-2FugO"
      },
      "source": [
        "# Парсим онлайн-магазин c книгами на питоне: как обойти серверную блокировку.\n",
        "\n",
        "[Books to scrape](https://books.toscrape.com/index.html)"
      ]
    },
    {
      "cell_type": "markdown",
      "metadata": {
        "id": "6-qGF6CjFugR"
      },
      "source": [
        "# 1. Вламываемся в хранилище\n",
        "\n",
        "## 1.1. Что мы хотим получить\n",
        "\n",
        "Итак, мы хотим распарсить [books.toscrape.com](https://books.toscrape.com/index.html) и получить кучу разных переменных:\n",
        "\n",
        "\n",
        "- **Name** – название книги\n",
        "- **Rating** – оценка книги (1-5 звёзд)\n",
        "- **Price** – цена книги\n",
        "- **Availability** – наличие на складе\n",
        "- **Category** – категория книги\n",
        "- **UPC** – код книги\n",
        "- **URL** – ссылка на книгу\n",
        "\n",
        "После скачивания и чистки данных от мусора, можно будет заняться строительством моделей. Например, попытаться предсказать популярность книги по её параметрам. Но это все позже, а сейчас познакомимся с парой определений:\n",
        "\n",
        "* **Парсер** — это скрипт, который грабит информацию с сайта\n",
        "* **Краулер** — это часть парсера, которая **бродит по ссылкам**\n",
        "* **Краулинг** — это переход по страницам и ссылкам\n",
        "* **Скрапинг** — это **сбор данных** со страниц\n",
        "* **Парсинг** — это сразу **и краулинг и скрапинг**!\n",
        "\n",
        "\n",
        "## 1.2.  Что такое HTML\n",
        "\n",
        "**HTML (HyperText Markup Language)**  — это такой же **язык разметки** как **Markdown** или **LaTeX**. Он является стандартным для написания различных сайтов. Команды в таком языке называются **тегами**. Если открыть абсолютно любой сайт, нажать на правую кнопку мышки, а после нажать `View page source`, то перед вами предстанет HTML скелет этого сайта.\n",
        "\n",
        "Можно увидеть, что HTML-страница это ни что иное как набор вложенных тегов. Можно заметить, например, следующие теги:\n",
        "\n",
        "- `<title>` – заголовок страницы\n",
        "- `<h1>…<h6>` – заголовки разных уровней\n",
        "- `<p>` – абзац (paragraph)\n",
        "- `<div>` – выделения фрагмента документа с целью изменения вида содержимого\n",
        "- `<table>` – прорисовка таблицы\n",
        "- `<tr>` – разделитель для строк в таблице\n",
        "- `<td>` – разделитель для столбцов в таблице\n",
        "- `<b>` – устанавливает жирное начертание шрифта\n",
        "\n",
        "Обычно команда `<...>` открывает тег, а  `</...>` закрывает его. Все, что находится между этими двумя командами, подчиняется правилу, которое диктует тег. Например, все, что находится между `<p>` и  `</p>` — это отдельный абзац.   \n",
        "\n",
        "Теги образуют своеобразное **дерево** с корнем в теге `<html>` и разбивают страницу на разные логические кусочки. У каждого тега могут быть свои **потомки (дети)** — те теги, которые вложены в него, и свои родители.\n",
        "\n",
        "Например, HTML-древо страницы может выглядеть вот так:\n",
        "\n",
        "    <html>\n",
        "    <head> Заголовок </head>\n",
        "    <body>\n",
        "        <div>\n",
        "            Первый кусок текста со своими свойствами\n",
        "        </div>\n",
        "        <div>\n",
        "            Второй кусок текста\n",
        "                <b>\n",
        "                    Третий, жирный кусок\n",
        "                </b>\n",
        "        </div>\n",
        "        Четвёртый кусок текста        \n",
        "    </body>\n",
        "    </html>            \n",
        "    \n",
        "    \n",
        "\n",
        "\n",
        "Можно работать с этим html как с текстом, а можно как с деревом. **Обход этого дерева и есть парсинг веб-страницы. Мы всего лишь будем находить нужные нам узлы среди всего этого разнообразия и забирать из них информацию!**\n",
        "\n",
        "Вручную обходить эти деревья не очень приятно, поэтому есть специальные языки для обхода деревьев.\n",
        "\n"
      ]
    },
    {
      "cell_type": "markdown",
      "metadata": {
        "id": "WWG2SZpHFugT"
      },
      "source": [
        "## 1.3. Наш первый запрос\n",
        "\n",
        "Доступ к веб-станицам позволяет получать модуль **`requests`**. Подгрузим его. За компанию подгрузим ещё парочку дельных пакетов."
      ]
    },
    {
      "cell_type": "code",
      "execution_count": 1,
      "metadata": {
        "id": "rnxFdMJIALLo"
      },
      "outputs": [],
      "source": [
        "import warnings\n",
        "warnings.filterwarnings(\"ignore\")"
      ]
    },
    {
      "cell_type": "code",
      "execution_count": 2,
      "metadata": {
        "id": "35Uti68PFugT"
      },
      "outputs": [],
      "source": [
        "import requests      # Библиотека для отправки запросов\n",
        "import numpy as np   # Библиотека для матриц, векторов и линала\n",
        "import pandas as pd  # Библиотека для табличек\n",
        "import time          # Библиотека для времени"
      ]
    },
    {
      "cell_type": "markdown",
      "metadata": {
        "id": "Dq4nNCdWFugV"
      },
      "source": [
        "Для наших благородных исследовательских целей **нужно собрать данные по каждой книге**  с соответствующей ей страницы. Но для начала **нужно получить адреса этих страниц** . Поэтому открываем основную страницу со всеми выложенными книгами.\n",
        "\n",
        "\n",
        "\n",
        "Со страницы всех книг https://books.toscrape.com/index.html мы  будем тащить ссылки на каждую из перечисленных книг. Сохраним в переменную **`main_page_link`** адрес основной страницы и откроем её при помощи библиотеки **`requests`**."
      ]
    },
    {
      "cell_type": "code",
      "execution_count": 3,
      "metadata": {
        "id": "G2U_F6onFugV"
      },
      "outputs": [],
      "source": [
        "main_page_link = 'https://books.toscrape.com/index.html'"
      ]
    },
    {
      "cell_type": "markdown",
      "metadata": {
        "id": "3cOE5tBeFugY"
      },
      "source": [
        "Не будем показывать серверу, что мы сидим на питоне и используем библиотеку requests. Это может вызвать у него некоторые подозрения относительно наших благих намерений и он решит нас безжалостно отвергнуть.\n",
        "\n",
        "\n",
        "Очевидно, что нашему скромному запросу не тягаться с таким обилием мета-информации, которое передается при запросе из обычного браузера. К счастью, никто нам не мешает притвориться человечными и пустить пыль в глаза сервера при помощи генерации **фейкового юзер-агента**.\n",
        "\n",
        "\n",
        "Библиотек, которые справляются с такой задачей, существует очень и очень много, лично мне больше всего нравится [`fake-useragent`](https://pypi.python.org/pypi/fake-useragent). **При вызове метода из различных кусочков будет генерироваться рандомное сочетание операционной системы, спецификаций и версии браузера, которые можно передавать в запрос**:"
      ]
    },
    {
      "cell_type": "code",
      "execution_count": 4,
      "metadata": {
        "colab": {
          "base_uri": "https://localhost:8080/"
        },
        "id": "30VTGnO_GAuR",
        "outputId": "6eb72f92-2ca0-4dea-f24c-e1da9aeefef6"
      },
      "outputs": [
        {
          "name": "stdout",
          "output_type": "stream",
          "text": [
            "Collecting fake_useragent\n",
            "  Downloading fake_useragent-2.2.0-py3-none-any.whl.metadata (17 kB)\n",
            "Downloading fake_useragent-2.2.0-py3-none-any.whl (161 kB)\n",
            "Installing collected packages: fake_useragent\n",
            "Successfully installed fake_useragent-2.2.0\n"
          ]
        }
      ],
      "source": [
        "!pip install fake_useragent"
      ]
    },
    {
      "cell_type": "code",
      "execution_count": 5,
      "metadata": {
        "id": "_k3ix86eFugY"
      },
      "outputs": [],
      "source": [
        "# подгрузим один из методов этой библиотеки\n",
        "from fake_useragent import UserAgent"
      ]
    },
    {
      "cell_type": "code",
      "execution_count": 6,
      "metadata": {
        "colab": {
          "base_uri": "https://localhost:8080/",
          "height": 35
        },
        "id": "DoxSGx1lG_2C",
        "outputId": "07054d46-c933-4a6e-f95d-449a77e1bdd3"
      },
      "outputs": [
        {
          "data": {
            "text/plain": [
              "'Mozilla/5.0 (iPhone; CPU iPhone OS 17_6_1 like Mac OS X) AppleWebKit/605.1.15 (KHTML, like Gecko) CriOS/135.0.7049.53 Mobile/15E148 Safari/604.1'"
            ]
          },
          "execution_count": 6,
          "metadata": {},
          "output_type": "execute_result"
        }
      ],
      "source": [
        "UserAgent().chrome"
      ]
    },
    {
      "cell_type": "code",
      "execution_count": null,
      "metadata": {
        "colab": {
          "base_uri": "https://localhost:8080/",
          "height": 35
        },
        "id": "p6k_rhytFugZ",
        "outputId": "3566b363-90d2-41ce-c316-67ccfdea20a5"
      },
      "outputs": [
        {
          "data": {
            "application/vnd.google.colaboratory.intrinsic+json": {
              "type": "string"
            },
            "text/plain": [
              "'Mozilla/5.0 (iPhone; CPU iPhone OS 18_1_1 like Mac OS X) AppleWebKit/605.1.15 (KHTML, like Gecko) Version/18.1.1 Mobile/15E148 Safari/604.1'"
            ]
          },
          "execution_count": 7,
          "metadata": {},
          "output_type": "execute_result"
        }
      ],
      "source": [
        "UserAgent().safari"
      ]
    },
    {
      "cell_type": "markdown",
      "metadata": {
        "id": "jtkqmul3DnoI"
      },
      "source": [
        "## 1.4. Извлечение HTML кода со страницы"
      ]
    },
    {
      "cell_type": "code",
      "execution_count": 7,
      "metadata": {
        "colab": {
          "base_uri": "https://localhost:8080/"
        },
        "id": "a_N4v7k_FugZ",
        "outputId": "36a36d19-b835-475f-c6c8-002f8e951227"
      },
      "outputs": [
        {
          "data": {
            "text/plain": [
              "<Response [200]>"
            ]
          },
          "execution_count": 7,
          "metadata": {},
          "output_type": "execute_result"
        }
      ],
      "source": [
        "# request meme page with chrome user agent\n",
        "response = requests.get(main_page_link, headers={'User-Agent': UserAgent().chrome})\n",
        "response"
      ]
    },
    {
      "cell_type": "code",
      "execution_count": 8,
      "metadata": {
        "colab": {
          "base_uri": "https://localhost:8080/",
          "height": 138
        },
        "id": "Hzy4Ofd4rwYZ",
        "outputId": "95daffb1-7c30-48da-f9ef-60961f95759f"
      },
      "outputs": [
        {
          "data": {
            "text/plain": [
              "requests.models.Response"
            ]
          },
          "execution_count": 8,
          "metadata": {},
          "output_type": "execute_result"
        }
      ],
      "source": [
        "type(response)"
      ]
    },
    {
      "cell_type": "markdown",
      "metadata": {
        "id": "Stgq18QcFuga"
      },
      "source": [
        "Замечательно, наша небольшая маскировка сработала и обманутый сервер покорно выдал благословенный 200 ответ — соединение установлено и данные получены, всё чудесно! Посмотрим, что же все-таки мы получили."
      ]
    },
    {
      "cell_type": "code",
      "execution_count": 9,
      "metadata": {
        "id": "7CzC1F1rFuga"
      },
      "outputs": [],
      "source": [
        "html = response.content"
      ]
    },
    {
      "cell_type": "code",
      "execution_count": 10,
      "metadata": {
        "colab": {
          "base_uri": "https://localhost:8080/"
        },
        "id": "lC27vW4oFuga",
        "outputId": "10a1c484-f57e-449a-8a37-eb84059d44b7"
      },
      "outputs": [
        {
          "data": {
            "text/plain": [
              "b'<!DOCTYPE html>\\n<!--[if lt IE 7]>      <html lang=\"en-us\" class=\"no-js lt-ie9 lt-ie8 lt-ie7\"> <![endif]-->\\n<!--[if IE 7]>         <html lang=\"en-us\" class=\"no-js lt-ie9 lt-ie8\"> <![endif]-->\\n<!--[if IE 8]>         <html lang=\"en-us\" class=\"no-js lt-ie9\"> <![endif]-->\\n<!--[if gt IE 8]><!--> <html lang=\"en-us\" class=\"no-js\"> <!--<![endif]-->\\n    <head>\\n        <title>\\n    All products | Books to Scrape - Sandbox\\n</title>\\n\\n        <meta http-equiv=\"content-type\" content=\"text/html; charset=UTF-8\" />\\n        <meta name=\"created\" content=\"24th Jun 2016 09:29\" />\\n        <meta name=\"description\" content=\"\" />\\n        <meta name=\"viewport\" content=\"width=device-width\" />\\n        <meta name=\"robots\" content=\"NOARCHIVE,NOCACHE\" />\\n\\n        <!-- Le HTML5 shim, for IE6-8 support of HTML elements -->\\n        <!--[if lt IE 9]>\\n        <script src=\"//html5shim.googlecode.com/svn/trunk/html5.js\"></script>\\n        <![endif]-->\\n\\n        \\n            <link rel=\"shortcut icon\" href=\"static/oscar/favicon.ico\" />\\n        \\n\\n        \\n        \\n    \\n    \\n        <link rel=\"stylesheet\" type=\"text/css\" href=\"static/oscar/css/styles.css\" />\\n    \\n    <link rel=\"stylesheet\" href=\"static/oscar/js/bootstrap-datetimepicker/bootstrap-datetimepicker.css\" />\\n    <link rel=\"stylesheet\" type=\"text/css\" href=\"static/oscar/css/datetimepicker.css\" />\\n\\n\\n        \\n        \\n\\n        \\n\\n        \\n            \\n            \\n\\n        \\n    </head>\\n\\n    <body id=\"default\" class=\"default\">\\n        \\n        \\n    \\n    \\n    <header class=\"header container-fluid\">\\n        <div class=\"page_inner\">\\n            <div class=\"row\">\\n                <div class=\"col-sm-8 h1\"><a href=\"index.html\">Books to Scrape</a><small> We love being scraped!</small>\\n</div>\\n\\n                \\n            </div>\\n        </div>\\n    </header>\\n\\n    \\n    \\n<div class=\"container-fluid page\">\\n    <div class=\"page_inner\">\\n        \\n    <ul class=\"breadcrumb\">\\n        <li>\\n            <a href=\"index.html\">Home</a>\\n        </li>\\n        <li class=\"active\">All'"
            ]
          },
          "execution_count": 10,
          "metadata": {},
          "output_type": "execute_result"
        }
      ],
      "source": [
        "html[:2000]"
      ]
    },
    {
      "cell_type": "code",
      "execution_count": 11,
      "metadata": {
        "colab": {
          "base_uri": "https://localhost:8080/"
        },
        "id": "AY0nhvoTFugb",
        "outputId": "08dce9e0-8bdc-4122-ff5e-ee17f83e477d"
      },
      "outputs": [
        {
          "data": {
            "text/plain": [
              "b's\"></script>\\n            <script>window.jQuery || document.write(\\'<script src=\"static/oscar/js/jquery/jquery-1.9.1.min.js\"><\\\\/script>\\')</script>\\n        \\n  \\n\\n\\n        \\n        \\n    \\n        \\n    <!-- Twitter Bootstrap -->\\n    <script type=\"text/javascript\" src=\"static/oscar/js/bootstrap3/bootstrap.min.js\"></script>\\n    <!-- Oscar -->\\n    <script src=\"static/oscar/js/oscar/ui.js\" type=\"text/javascript\" charset=\"utf-8\"></script>\\n\\n    <script src=\"static/oscar/js/bootstrap-datetimepicker/bootstrap-datetimepicker.js\" type=\"text/javascript\" charset=\"utf-8\"></script>\\n    <script src=\"static/oscar/js/bootstrap-datetimepicker/locales/bootstrap-datetimepicker.all.js\" type=\"text/javascript\" charset=\"utf-8\"></script>\\n\\n\\n        \\n        \\n    \\n\\n    \\n\\n\\n        \\n        <script type=\"text/javascript\">\\n            $(function() {\\n                \\n    \\n    \\n    oscar.init();\\n\\n    oscar.search.init();\\n\\n            });\\n        </script>\\n\\n        \\n        <!-- Version: N/A -->\\n        \\n    </body>\\n</html>\\n'"
            ]
          },
          "execution_count": 11,
          "metadata": {},
          "output_type": "execute_result"
        }
      ],
      "source": [
        "html[-1000:]"
      ]
    },
    {
      "cell_type": "code",
      "execution_count": 12,
      "metadata": {
        "colab": {
          "base_uri": "https://localhost:8080/"
        },
        "id": "giRv1imoFugb",
        "outputId": "04613581-797b-40dd-92f4-335713906d1d"
      },
      "outputs": [
        {
          "data": {
            "text/plain": [
              "51294"
            ]
          },
          "execution_count": 12,
          "metadata": {},
          "output_type": "execute_result"
        }
      ],
      "source": [
        "len(html)"
      ]
    },
    {
      "cell_type": "code",
      "execution_count": 13,
      "metadata": {
        "colab": {
          "base_uri": "https://localhost:8080/"
        },
        "id": "u2fvAtRhFugb",
        "outputId": "fcd539f7-a653-4ee2-de10-070c357a709c"
      },
      "outputs": [
        {
          "data": {
            "text/plain": [
              "bytes"
            ]
          },
          "execution_count": 13,
          "metadata": {},
          "output_type": "execute_result"
        }
      ],
      "source": [
        "type(html)"
      ]
    },
    {
      "cell_type": "markdown",
      "metadata": {
        "id": "x3nssAXqFugb"
      },
      "source": [
        "Выглядит непонятно и неудобно. как насчет сварить из этого дела что-то покрасивее? Например, красивый суп."
      ]
    },
    {
      "cell_type": "markdown",
      "metadata": {
        "id": "PdL3hXi2Fugc"
      },
      "source": [
        "## 1.5. Парсинг HTML кода - Красивый суп\n",
        "\n",
        "\n",
        "\n",
        "Пакет **[bs4 , a.k.a BeautifulSoup](https://www.crummy.com/software/BeautifulSoup/)** (тут есть гиперссылка на лучшего друга человека — документацию) был назван в честь стишка про красивый суп из Алисы в стране чудес.\n",
        "\n",
        "Красивый суп — это совершенно волшебная библиотека, которая из сырого и необработанного HTML кода страницы выдаст вам структурированный массив данных, по которому очень удобно искать необходимые теги, классы, атрибуты, тексты и прочие элементы веб страниц.\n",
        "\n",
        "> Пакет под названием **`BeautifulSoup`** — скорее всего, не то, что нам нужно. Это третья версия (*Beautiful Soup 3*), а мы будем использовать четвертую. Нужно будет установить пакет **`beautifulsoup4`**. Чтобы было совсем весело, при импорте нужно указывать другое название пакета — **`bs4`**, а импортировать функцию под названием **`BeautifulSoup`**. В общем, сначала легко запутаться, но эти трудности нужно преодолеть.\n",
        "\n",
        "**С необработанным XML кодом страницы пакет также работает** (XML — это исковерканый и превращённый в диалект, с помощью своих команд, HTML). Для того, чтобы пакет корректно работал с XML разметкой, придётся в довесок ко всему нашему арсеналу установить пакет `xml`."
      ]
    },
    {
      "cell_type": "code",
      "execution_count": 14,
      "metadata": {
        "id": "r3iHCGdPFugc"
      },
      "outputs": [],
      "source": [
        "from bs4 import BeautifulSoup"
      ]
    },
    {
      "cell_type": "markdown",
      "metadata": {
        "id": "m1Q5epfiFugc"
      },
      "source": [
        "Передадим функции `BeautifulSoup` текст веб-страницы, которую мы недавно получили."
      ]
    },
    {
      "cell_type": "code",
      "execution_count": 15,
      "metadata": {
        "id": "98tY_xT1Fugc"
      },
      "outputs": [],
      "source": [
        "soup = BeautifulSoup(html, 'html.parser') # В опции также можно указать lxml,\n",
        "                                         # если предварительно установить одноименный пакет"
      ]
    },
    {
      "cell_type": "code",
      "execution_count": 16,
      "metadata": {
        "colab": {
          "base_uri": "https://localhost:8080/",
          "height": 220
        },
        "id": "HK5l0uasFugd",
        "outputId": "2f3fb198-b845-4348-c20e-ce2553d60677"
      },
      "outputs": [
        {
          "data": {
            "text/plain": [
              "bs4.BeautifulSoup"
            ]
          },
          "execution_count": 16,
          "metadata": {},
          "output_type": "execute_result"
        }
      ],
      "source": [
        "type(soup)"
      ]
    },
    {
      "cell_type": "code",
      "execution_count": 17,
      "metadata": {
        "colab": {
          "base_uri": "https://localhost:8080/"
        },
        "id": "iytVf49JFugd",
        "outputId": "3df800d7-517a-4e53-8251-98273d2b71ac"
      },
      "outputs": [
        {
          "name": "stdout",
          "output_type": "stream",
          "text": [
            "<!DOCTYPE html>\n",
            "<!--[if lt IE 7]>      <html lang=\"en-us\" class=\"no-js lt-ie9 lt-ie8 lt-ie7\"> <![endif]-->\n",
            "<!--[if IE 7]>         <html lang=\"en-us\" class=\"no-js lt-ie9 lt-ie8\"> <![endif]-->\n",
            "<!--[if IE 8]>         <html lang=\"en-us\" class=\"no-js lt-ie9\"> <![endif]-->\n",
            "<!--[if gt IE 8]><!-->\n",
            "<html class=\"no-js\" lang=\"en-us\">\n",
            " <!--<![endif]-->\n",
            " <head>\n",
            "  <title>\n",
            "   All products | Books to Scrape - Sandbox\n",
            "  </title>\n",
            "  <meta content=\"text/html; charset=utf-8\" http-equiv=\"content-type\"/>\n",
            "  <meta content=\"24th Jun 2016 09:29\" name=\"created\"/>\n",
            "  <meta content=\"\" name=\"description\"/>\n",
            "  <meta content=\"width=device-width\" name=\"viewport\"/>\n",
            "  <meta content=\"NOARCHIVE,NOCACHE\" name=\"robots\"/>\n",
            "  <!-- Le HTML5 shim, for IE6-8 support of HTML elements -->\n",
            "  <!--[if lt IE 9]>\n",
            "        <script src=\"//html5shim.googlecode.com/svn/trunk/html5.js\"></script>\n",
            "        <![endif]-->\n",
            "  <link href=\"static/oscar/favicon.ico\" rel=\"shortcut icon\"/>\n",
            "  <link href=\"static/oscar/css/styles.css\" rel=\"stylesheet\" type=\"text/css\"/>\n",
            "  <link href=\"static/oscar/js/bootstrap-datetimepicker/bootstrap-datetimepicker.css\" rel=\"stylesheet\"/>\n",
            "  <link href=\"static/oscar/css/datetimepicker.css\" rel=\"stylesheet\" type=\"text/css\"/>\n",
            " </head>\n",
            " <body class=\"default\" id=\"default\">\n",
            "  <header class=\"header container-fluid\">\n",
            "   <div class=\"page_inner\">\n",
            "    <div class=\"row\">\n",
            "     <div class=\"col-sm-8 h1\">\n",
            "      <a href=\"index.html\">\n",
            "       Books to Scrape\n",
            "      </a>\n",
            "      <small>\n",
            "       We love being scraped!\n",
            "      </small>\n",
            "     </div>\n",
            "    </div>\n",
            "   </div>\n",
            "  </header>\n",
            "  <div class=\"container-fluid page\">\n",
            "   <div class=\"page_inner\">\n",
            "    <ul class=\"breadcrumb\">\n",
            "     <li>\n",
            "      <a href=\"index.html\">\n",
            "       Home\n",
            "      </a>\n",
            "     </li>\n",
            "     <li class=\"active\">\n",
            "      All products\n",
            "     </li>\n",
            "    </ul>\n",
            "    <div class=\"row\">\n",
            "     <aside class=\"sidebar col-sm-4 col-md-3\">\n",
            "      <div id=\"promotions_left\">\n",
            "      </div>\n",
            "      <div class=\"side_categories\">\n",
            "       <ul class=\"nav nav-list\">\n",
            "        <li>\n",
            "         <a href=\"catalogue/category/bo\n"
          ]
        }
      ],
      "source": [
        "print(soup.prettify()[:2000])"
      ]
    },
    {
      "cell_type": "markdown",
      "metadata": {
        "id": "Mq5XZ8V_Fugd"
      },
      "source": [
        "Получим что-то вот такое:\n",
        "    \n",
        "```\n",
        "<!DOCTYPE html>\n",
        "\n",
        "<html xmlns=\"http://www.w3.org/1999/xhtml\" xmlns:fb=\"http://www.facebook.com/2008/fbml\">\n",
        "<head>\n",
        "<meta content=\"text/html; charset=utf-8\" http-equiv=\"Content-Type\"/>\n",
        "<script type=\"text/javascript\">window.NREUM||(NREUM={});NREUM.info={\"beacon\":\"bam.nr-data.net\",\"errorBeacon\":\"bam.nr-data.net\",\"licenseKey\":\"c1a6d52f38\",\"applicationID\":\"31165848\",\"transactionName\":\"dFdfRUpeWglTQB8GDUNKWFRLHkUNWUU=\",\"queueTime\":0,\"applicationTime\":24,\"agent\":\"\"}</script>\n",
        "<script type=\"text/javascript\">window.NREUM||(NREUM={}),__nr_require=function(e,n,t){function r(t){if(!n[t]){var o=n[t]={exports:{}};e[t][0].call(o.exports,function(n){var o=e[t][1][n];return r(o||n)},o,o.exports)}return n[t].exports}if(\"function\"==typeof __nr_require)return __nr_require;for(var o=0;o<t.length;o++)r(t[o]);return r}({1:[function(e,n,t){function r(){}function o(e,n,t){return function(){return i(e,[c.now()].concat(u(arguments)),n?null:this,t),n?void 0:this}}var i=e(\"handle\"),a=e(2),u=e(3),f=e(\"ee\").get(\"tracer\"),c=e(\"loader\"),s=NREUM;\"undefined\"==typeof window.newrelic&&(newrelic=s);var p=\n",
        "```\n",
        "\n",
        "Стало намного лучше, не правда ли? Что же лежит в переменной **`soup`**? Невнимательный пользователь, скорее всего, скажет,что ничего вообще не изменилось. Тем не менее, это не так. Теперь мы можем свободно **бродить по HTML-дереву** страницы, **искать детей**, **родителей** и вытаскивать их!\n",
        "\n",
        "Например, можно бродить по вершинам, указывая путь из тегов."
      ]
    },
    {
      "cell_type": "code",
      "execution_count": 19,
      "metadata": {
        "colab": {
          "base_uri": "https://localhost:8080/"
        },
        "id": "uNVZ0sjjFugd",
        "outputId": "00188fb8-a0e8-4a40-f2ab-7c4d37b15e80"
      },
      "outputs": [
        {
          "data": {
            "text/plain": [
              "<title>\n",
              "    All products | Books to Scrape - Sandbox\n",
              "</title>"
            ]
          },
          "execution_count": 19,
          "metadata": {},
          "output_type": "execute_result"
        }
      ],
      "source": [
        "# show title tag\n",
        "soup.html.head.title"
      ]
    },
    {
      "cell_type": "code",
      "execution_count": 18,
      "metadata": {
        "colab": {
          "base_uri": "https://localhost:8080/",
          "height": 220
        },
        "id": "EfEDt9dVFugd",
        "outputId": "e6564057-3b02-4486-b720-745c1ec1e5de"
      },
      "outputs": [
        {
          "data": {
            "text/plain": [
              "bs4.element.Tag"
            ]
          },
          "execution_count": 18,
          "metadata": {},
          "output_type": "execute_result"
        }
      ],
      "source": [
        "type(soup.html.head.title)"
      ]
    },
    {
      "cell_type": "markdown",
      "metadata": {
        "id": "KoR4X92NFuge"
      },
      "source": [
        "Можно вытащить из того места, куда мы забрели, текст с помощью метода `text`."
      ]
    },
    {
      "cell_type": "code",
      "execution_count": 20,
      "metadata": {
        "colab": {
          "base_uri": "https://localhost:8080/",
          "height": 35
        },
        "id": "SCXm4hc08YDG",
        "outputId": "c2607025-5581-425f-f956-568ce9cdf35c"
      },
      "outputs": [
        {
          "data": {
            "text/plain": [
              "'\\n    All products | Books to Scrape - Sandbox\\n'"
            ]
          },
          "execution_count": 20,
          "metadata": {},
          "output_type": "execute_result"
        }
      ],
      "source": [
        "# show title tag text which you usually see in the tab of your browser\n",
        "soup.html.head.title.text"
      ]
    },
    {
      "cell_type": "code",
      "execution_count": 21,
      "metadata": {
        "colab": {
          "base_uri": "https://localhost:8080/"
        },
        "id": "Jx0A2KLFtJJk",
        "outputId": "d2ff7d74-19a9-4eba-e36b-3aa5f3d891f8"
      },
      "outputs": [
        {
          "data": {
            "text/plain": [
              "str"
            ]
          },
          "execution_count": 21,
          "metadata": {},
          "output_type": "execute_result"
        }
      ],
      "source": [
        "type(soup.html.head.title.text)"
      ]
    },
    {
      "cell_type": "code",
      "execution_count": 22,
      "metadata": {
        "colab": {
          "base_uri": "https://localhost:8080/",
          "height": 35
        },
        "id": "Fdb8bP0L8cuE",
        "outputId": "d72f2bad-4f32-4074-a5f8-a3feaa4797da"
      },
      "outputs": [
        {
          "data": {
            "text/plain": [
              "'All products | Books to Scrape - Sandbox'"
            ]
          },
          "execution_count": 22,
          "metadata": {},
          "output_type": "execute_result"
        }
      ],
      "source": [
        "# delete leading and trailing newlines, tabs and spaces\n",
        "soup.html.head.title.text.strip()"
      ]
    },
    {
      "cell_type": "code",
      "execution_count": 23,
      "metadata": {
        "colab": {
          "base_uri": "https://localhost:8080/"
        },
        "id": "KevofBnS8ecT",
        "outputId": "c0a2b9e9-5e3b-4217-9da2-350c58ac25ac"
      },
      "outputs": [
        {
          "data": {
            "text/plain": [
              "str"
            ]
          },
          "execution_count": 23,
          "metadata": {},
          "output_type": "execute_result"
        }
      ],
      "source": [
        "type(soup.html.head.title.text.strip())"
      ]
    },
    {
      "cell_type": "markdown",
      "metadata": {
        "id": "5RHnScSLFuge"
      },
      "source": [
        "Более того, зная адрес элемента, мы сразу можем найти его. Например, можно сделать это по классу. Следующая команда должна найти элемент, который лежит внутри тега **`div`** и имеет класс **`side_categories`**."
      ]
    },
    {
      "cell_type": "code",
      "execution_count": 24,
      "metadata": {
        "colab": {
          "base_uri": "https://localhost:8080/"
        },
        "id": "bKogk1QCFuge",
        "outputId": "ff18d8b0-93ec-4f08-8432-5ebc3e44ae1e"
      },
      "outputs": [
        {
          "name": "stdout",
          "output_type": "stream",
          "text": [
            "<div class=\"side_categories\">\n",
            " <ul class=\"nav nav-list\">\n",
            "  <li>\n",
            "   <a href=\"catalogue/category/books_1/index.html\">\n",
            "    Books\n",
            "   </a>\n",
            "   <ul>\n",
            "    <li>\n",
            "     <a href=\"catalogue/category/books/travel_2/index.html\">\n",
            "      Travel\n",
            "     </a>\n",
            "    </li>\n",
            "    <li>\n",
            "     <a href=\"catalogue/category/books/mystery_3/index.html\">\n",
            "      Mystery\n",
            "     </a>\n",
            "    </li>\n",
            "    <li>\n",
            "     <a href=\"catalogue/category/books/historical-fiction_4/index.html\">\n",
            "      Historical Fiction\n",
            "     </a>\n",
            "    </li>\n",
            "    <li>\n",
            "     <a href=\"\n"
          ]
        }
      ],
      "source": [
        "# get element representing left sidebar menu\n",
        "obj = soup.find('div', attrs = {'class':'side_categories'})\n",
        "print(obj.prettify()[:500])"
      ]
    },
    {
      "cell_type": "code",
      "execution_count": 25,
      "metadata": {
        "colab": {
          "base_uri": "https://localhost:8080/"
        },
        "id": "9J95jG8gFuge",
        "outputId": "6f53e13a-1fc6-4311-a5da-3c6e4e16ebca"
      },
      "outputs": [
        {
          "data": {
            "text/plain": [
              "['side_categories']"
            ]
          },
          "execution_count": 25,
          "metadata": {},
          "output_type": "execute_result"
        }
      ],
      "source": [
        "obj.get(\"class\")"
      ]
    },
    {
      "cell_type": "markdown",
      "metadata": {
        "id": "KiGdlNbKAJLb"
      },
      "source": [
        "**При работе с классами нужно быть внимательными!**\n",
        "\n",
        "Давайте попробуем найти элемент, который лежит внутри тега **`header`** и имеет класс **`header`**."
      ]
    },
    {
      "cell_type": "code",
      "execution_count": 26,
      "metadata": {
        "colab": {
          "base_uri": "https://localhost:8080/"
        },
        "id": "-uleK6UJAIpQ",
        "outputId": "acbbaa38-99df-4646-8345-a9ccf7f0ae99"
      },
      "outputs": [
        {
          "data": {
            "text/plain": [
              "['header', 'container-fluid']"
            ]
          },
          "execution_count": 26,
          "metadata": {},
          "output_type": "execute_result"
        }
      ],
      "source": [
        "obj_2 = soup.find('header', attrs = {'class':'header'})\n",
        "obj_2.get(\"class\")"
      ]
    },
    {
      "cell_type": "code",
      "execution_count": 27,
      "metadata": {
        "colab": {
          "base_uri": "https://localhost:8080/"
        },
        "id": "j3TwXD6QCMCs",
        "outputId": "7b908705-a684-4275-85f1-adefed84ac00"
      },
      "outputs": [
        {
          "name": "stdout",
          "output_type": "stream",
          "text": [
            "<header class=\"header container-fluid\">\n",
            " <div class=\"page_inner\">\n",
            "  <d\n"
          ]
        }
      ],
      "source": [
        "print(obj_2.prettify()[:70])"
      ]
    },
    {
      "cell_type": "markdown",
      "metadata": {
        "id": "0a00lmX4AlDZ"
      },
      "source": [
        "Вопреки нашим ожиданиям, вытащенный объект имеет класс **`\"header container-fluid\"`**."
      ]
    },
    {
      "cell_type": "markdown",
      "metadata": {
        "id": "GH5Kb83S_8-_"
      },
      "source": [
        "`BeautifulSoup4` расценивает аттрибуты **`class`** как набор отдельных значений, поэтому **`\"header container-fluid\"`** для библиотеки равносильно **`[\"header\", \"container-fluid\"]`**, а указанное нами значение этого класса **`\"header\"`** входит в этот список.\n",
        "\n",
        "\n",
        "Чтобы избежать такой неприятной ситуации и проходов по ненужным нам ссылкам, придется воспользоваться собственной функцией и **задать строгое соответствие**:"
      ]
    },
    {
      "cell_type": "code",
      "execution_count": 28,
      "metadata": {
        "colab": {
          "base_uri": "https://localhost:8080/"
        },
        "id": "KGY09M4nFugf",
        "outputId": "330845f6-96f0-42a9-cfc4-b24e9594d38d"
      },
      "outputs": [
        {
          "data": {
            "text/plain": [
              "True"
            ]
          },
          "execution_count": 28,
          "metadata": {},
          "output_type": "execute_result"
        }
      ],
      "source": [
        "'header' in ['header', 'container-fluid']"
      ]
    },
    {
      "cell_type": "code",
      "execution_count": 29,
      "metadata": {
        "id": "vPIag13NFugf"
      },
      "outputs": [],
      "source": [
        "obj_2 = soup.find(lambda tag: tag.name == 'header' and tag.get('class') == ['header'])\n",
        "obj_2"
      ]
    },
    {
      "cell_type": "code",
      "execution_count": 30,
      "metadata": {
        "colab": {
          "base_uri": "https://localhost:8080/"
        },
        "id": "BMsKUpiaBh7O",
        "outputId": "ccc5af48-bb38-4e84-b572-9e54fbf53192"
      },
      "outputs": [
        {
          "name": "stdout",
          "output_type": "stream",
          "text": [
            "None\n"
          ]
        }
      ],
      "source": [
        "print(obj_2)"
      ]
    },
    {
      "cell_type": "markdown",
      "metadata": {
        "id": "VNTsVPWOBuDJ"
      },
      "source": [
        "В коде HTML нет тега, который строго соответсвует нашему критерию. Поэтому, мы получаем объект `None`."
      ]
    },
    {
      "cell_type": "markdown",
      "metadata": {
        "id": "8FeAygq3CrK9"
      },
      "source": [
        "## Извлечение ссылок"
      ]
    },
    {
      "cell_type": "markdown",
      "metadata": {
        "id": "rXsWLWTmFugf"
      },
      "source": [
        "Полученный после поиска объект также обладает структурой bs4. Поэтому можно продолжить искать нужные нам объекты уже в нём! Вытащим ссылку на эту страницу. Сделать это можно по атрибуту `href`, в котором лежит наша ссылка."
      ]
    },
    {
      "cell_type": "code",
      "execution_count": 31,
      "metadata": {
        "id": "NO7lWpHhBsft"
      },
      "outputs": [],
      "source": [
        "# find first a-tag element on webpage\n",
        "obj = soup.find('a')"
      ]
    },
    {
      "cell_type": "code",
      "execution_count": 32,
      "metadata": {
        "colab": {
          "base_uri": "https://localhost:8080/"
        },
        "id": "DLlhfQ0DAo7D",
        "outputId": "a86ba45b-ba80-4a12-efd0-b9d5ffa9e147"
      },
      "outputs": [
        {
          "data": {
            "text/plain": [
              "<a href=\"index.html\">Books to Scrape</a>"
            ]
          },
          "execution_count": 32,
          "metadata": {},
          "output_type": "execute_result"
        }
      ],
      "source": [
        "obj"
      ]
    },
    {
      "cell_type": "code",
      "execution_count": 33,
      "metadata": {
        "colab": {
          "base_uri": "https://localhost:8080/",
          "height": 35
        },
        "id": "ADWulcegFugg",
        "outputId": "eda4051d-64cf-4ab9-92ab-19d77c17fc54"
      },
      "outputs": [
        {
          "data": {
            "text/plain": [
              "'index.html'"
            ]
          },
          "execution_count": 33,
          "metadata": {},
          "output_type": "execute_result"
        }
      ],
      "source": [
        "# get url from this object\n",
        "obj.attrs['href']"
      ]
    },
    {
      "cell_type": "markdown",
      "metadata": {
        "id": "iB43fXxDFugg"
      },
      "source": [
        "Обратите внимание, что после всех этих безумных преобразований у данных поменялся тип. Теперь они `str`. Это означет, что с ними можно работать как с текстом и пускать в ход для отсеивания лишней информации регулярные выражения."
      ]
    },
    {
      "cell_type": "code",
      "execution_count": 34,
      "metadata": {
        "colab": {
          "base_uri": "https://localhost:8080/"
        },
        "id": "5-0EDpR_Fugg",
        "outputId": "5ba9e548-efe8-4045-8b6b-507e5e947625"
      },
      "outputs": [
        {
          "name": "stdout",
          "output_type": "stream",
          "text": [
            "Тип данных до вытаскивания ссылки: <class 'bs4.element.Tag'>\n",
            "Тип данных после вытаскивания ссылки: <class 'str'>\n"
          ]
        }
      ],
      "source": [
        "print(\"Тип данных до вытаскивания ссылки:\", type(obj))\n",
        "print(\"Тип данных после вытаскивания ссылки:\", type(obj.attrs['href']))"
      ]
    },
    {
      "cell_type": "markdown",
      "metadata": {
        "id": "jr_4IjurFugg"
      },
      "source": [
        "Если несколько элементов на странице обладают указанным адресом, то метод **`find` вернёт только самый первый** .  Чтобы **найти все элементы** с таким адресом, нужно использовать метод **`findAll`**, и на выход будет выдан список. Таким образом, мы можем получить одним поиском сразу все объекты, содержащие ссылки на страницы с книгами."
      ]
    },
    {
      "cell_type": "code",
      "execution_count": 35,
      "metadata": {
        "colab": {
          "base_uri": "https://localhost:8080/"
        },
        "id": "Hq8RXn5cFugg",
        "outputId": "5200d226-a639-45fc-9745-296581f6117c"
      },
      "outputs": [
        {
          "data": {
            "text/plain": [
              "[<a href=\"index.html\">Books to Scrape</a>,\n",
              " <a href=\"index.html\">Home</a>,\n",
              " <a href=\"catalogue/category/books_1/index.html\">\n",
              "                             \n",
              "                                 Books\n",
              "                             \n",
              "                         </a>]"
            ]
          },
          "execution_count": 35,
          "metadata": {},
          "output_type": "execute_result"
        }
      ],
      "source": [
        "# get all tags\n",
        "all_link_tags = soup.findAll(lambda tag: tag.name == 'a')\n",
        "all_link_tags[:3]"
      ]
    },
    {
      "cell_type": "markdown",
      "metadata": {
        "id": "1SeiIOQjA2-P"
      },
      "source": []
    },
    {
      "cell_type": "code",
      "execution_count": 36,
      "metadata": {
        "colab": {
          "base_uri": "https://localhost:8080/"
        },
        "id": "dG9tqLMzA3ZG",
        "outputId": "7a21ff10-6034-45db-aa4e-e6e8c8e3699e"
      },
      "outputs": [
        {
          "data": {
            "text/plain": [
              "94"
            ]
          },
          "execution_count": 36,
          "metadata": {},
          "output_type": "execute_result"
        }
      ],
      "source": [
        "len(all_link_tags)"
      ]
    },
    {
      "cell_type": "code",
      "execution_count": 37,
      "metadata": {
        "id": "bPdupB4HGDkI"
      },
      "outputs": [],
      "source": [
        "# clean text inside tags\n",
        "\n",
        "cleaned_link_tags = []\n",
        "\n",
        "for link in all_link_tags:\n",
        "    if link.string:  # Check if the tag has a text node\n",
        "        link.string = link.string.strip()  # Clean up the text inside the tag\n",
        "    cleaned_link_tags.append(link)"
      ]
    },
    {
      "cell_type": "code",
      "execution_count": 38,
      "metadata": {
        "colab": {
          "base_uri": "https://localhost:8080/"
        },
        "id": "iBYaAa2UHmmy",
        "outputId": "8b2e220f-f9bb-4d98-f4f3-e1624e672bb7"
      },
      "outputs": [
        {
          "data": {
            "text/plain": [
              "[<a href=\"index.html\">Books to Scrape</a>,\n",
              " <a href=\"index.html\">Home</a>,\n",
              " <a href=\"catalogue/category/books_1/index.html\">Books</a>,\n",
              " <a href=\"catalogue/category/books/travel_2/index.html\">Travel</a>,\n",
              " <a href=\"catalogue/category/books/mystery_3/index.html\">Mystery</a>,\n",
              " <a href=\"catalogue/category/books/historical-fiction_4/index.html\">Historical Fiction</a>,\n",
              " <a href=\"catalogue/category/books/sequential-art_5/index.html\">Sequential Art</a>,\n",
              " <a href=\"catalogue/category/books/classics_6/index.html\">Classics</a>,\n",
              " <a href=\"catalogue/category/books/philosophy_7/index.html\">Philosophy</a>,\n",
              " <a href=\"catalogue/category/books/romance_8/index.html\">Romance</a>]"
            ]
          },
          "execution_count": 38,
          "metadata": {},
          "output_type": "execute_result"
        }
      ],
      "source": [
        "all_link_tags[:10]"
      ]
    },
    {
      "cell_type": "code",
      "execution_count": 39,
      "metadata": {
        "colab": {
          "base_uri": "https://localhost:8080/"
        },
        "id": "-wZ2TuUeFugg",
        "outputId": "5a26910d-ce3b-442f-8697-c5211876c8c4"
      },
      "outputs": [
        {
          "data": {
            "text/plain": [
              "94"
            ]
          },
          "execution_count": 39,
          "metadata": {},
          "output_type": "execute_result"
        }
      ],
      "source": [
        "# observe number of found link tags\n",
        "len(all_link_tags)"
      ]
    },
    {
      "cell_type": "markdown",
      "metadata": {
        "id": "MAJ9yyQxFugh"
      },
      "source": [
        "Осталось очистить полученный список от мусора (синтаксиса тегов), чтобы получить только ссылки:"
      ]
    },
    {
      "cell_type": "code",
      "execution_count": 40,
      "metadata": {
        "id": "xVeWPcC2Fugh"
      },
      "outputs": [],
      "source": [
        "# get urls from tags\n",
        "page_links = [link.attrs['href'] for link in all_link_tags]"
      ]
    },
    {
      "cell_type": "code",
      "execution_count": 41,
      "metadata": {
        "colab": {
          "base_uri": "https://localhost:8080/"
        },
        "id": "R9_2SeUuFugh",
        "outputId": "9a223074-653d-498d-fd94-2ba11d99e26f"
      },
      "outputs": [
        {
          "data": {
            "text/plain": [
              "['index.html',\n",
              " 'index.html',\n",
              " 'catalogue/category/books_1/index.html',\n",
              " 'catalogue/category/books/travel_2/index.html',\n",
              " 'catalogue/category/books/mystery_3/index.html',\n",
              " 'catalogue/category/books/historical-fiction_4/index.html',\n",
              " 'catalogue/category/books/sequential-art_5/index.html',\n",
              " 'catalogue/category/books/classics_6/index.html',\n",
              " 'catalogue/category/books/philosophy_7/index.html',\n",
              " 'catalogue/category/books/romance_8/index.html',\n",
              " 'catalogue/category/books/womens-fiction_9/index.html',\n",
              " 'catalogue/category/books/fiction_10/index.html',\n",
              " 'catalogue/category/books/childrens_11/index.html',\n",
              " 'catalogue/category/books/religion_12/index.html',\n",
              " 'catalogue/category/books/nonfiction_13/index.html',\n",
              " 'catalogue/category/books/music_14/index.html',\n",
              " 'catalogue/category/books/default_15/index.html',\n",
              " 'catalogue/category/books/science-fiction_16/index.html',\n",
              " 'catalogue/category/books/sports-and-games_17/index.html',\n",
              " 'catalogue/category/books/add-a-comment_18/index.html',\n",
              " 'catalogue/category/books/fantasy_19/index.html',\n",
              " 'catalogue/category/books/new-adult_20/index.html',\n",
              " 'catalogue/category/books/young-adult_21/index.html',\n",
              " 'catalogue/category/books/science_22/index.html',\n",
              " 'catalogue/category/books/poetry_23/index.html',\n",
              " 'catalogue/category/books/paranormal_24/index.html',\n",
              " 'catalogue/category/books/art_25/index.html',\n",
              " 'catalogue/category/books/psychology_26/index.html',\n",
              " 'catalogue/category/books/autobiography_27/index.html',\n",
              " 'catalogue/category/books/parenting_28/index.html',\n",
              " 'catalogue/category/books/adult-fiction_29/index.html',\n",
              " 'catalogue/category/books/humor_30/index.html',\n",
              " 'catalogue/category/books/horror_31/index.html',\n",
              " 'catalogue/category/books/history_32/index.html',\n",
              " 'catalogue/category/books/food-and-drink_33/index.html',\n",
              " 'catalogue/category/books/christian-fiction_34/index.html',\n",
              " 'catalogue/category/books/business_35/index.html',\n",
              " 'catalogue/category/books/biography_36/index.html',\n",
              " 'catalogue/category/books/thriller_37/index.html',\n",
              " 'catalogue/category/books/contemporary_38/index.html',\n",
              " 'catalogue/category/books/spirituality_39/index.html',\n",
              " 'catalogue/category/books/academic_40/index.html',\n",
              " 'catalogue/category/books/self-help_41/index.html',\n",
              " 'catalogue/category/books/historical_42/index.html',\n",
              " 'catalogue/category/books/christian_43/index.html',\n",
              " 'catalogue/category/books/suspense_44/index.html',\n",
              " 'catalogue/category/books/short-stories_45/index.html',\n",
              " 'catalogue/category/books/novels_46/index.html',\n",
              " 'catalogue/category/books/health_47/index.html',\n",
              " 'catalogue/category/books/politics_48/index.html',\n",
              " 'catalogue/category/books/cultural_49/index.html',\n",
              " 'catalogue/category/books/erotica_50/index.html',\n",
              " 'catalogue/category/books/crime_51/index.html',\n",
              " 'catalogue/a-light-in-the-attic_1000/index.html',\n",
              " 'catalogue/a-light-in-the-attic_1000/index.html',\n",
              " 'catalogue/tipping-the-velvet_999/index.html',\n",
              " 'catalogue/tipping-the-velvet_999/index.html',\n",
              " 'catalogue/soumission_998/index.html',\n",
              " 'catalogue/soumission_998/index.html',\n",
              " 'catalogue/sharp-objects_997/index.html',\n",
              " 'catalogue/sharp-objects_997/index.html',\n",
              " 'catalogue/sapiens-a-brief-history-of-humankind_996/index.html',\n",
              " 'catalogue/sapiens-a-brief-history-of-humankind_996/index.html',\n",
              " 'catalogue/the-requiem-red_995/index.html',\n",
              " 'catalogue/the-requiem-red_995/index.html',\n",
              " 'catalogue/the-dirty-little-secrets-of-getting-your-dream-job_994/index.html',\n",
              " 'catalogue/the-dirty-little-secrets-of-getting-your-dream-job_994/index.html',\n",
              " 'catalogue/the-coming-woman-a-novel-based-on-the-life-of-the-infamous-feminist-victoria-woodhull_993/index.html',\n",
              " 'catalogue/the-coming-woman-a-novel-based-on-the-life-of-the-infamous-feminist-victoria-woodhull_993/index.html',\n",
              " 'catalogue/the-boys-in-the-boat-nine-americans-and-their-epic-quest-for-gold-at-the-1936-berlin-olympics_992/index.html',\n",
              " 'catalogue/the-boys-in-the-boat-nine-americans-and-their-epic-quest-for-gold-at-the-1936-berlin-olympics_992/index.html',\n",
              " 'catalogue/the-black-maria_991/index.html',\n",
              " 'catalogue/the-black-maria_991/index.html',\n",
              " 'catalogue/starving-hearts-triangular-trade-trilogy-1_990/index.html',\n",
              " 'catalogue/starving-hearts-triangular-trade-trilogy-1_990/index.html',\n",
              " 'catalogue/shakespeares-sonnets_989/index.html',\n",
              " 'catalogue/shakespeares-sonnets_989/index.html',\n",
              " 'catalogue/set-me-free_988/index.html',\n",
              " 'catalogue/set-me-free_988/index.html',\n",
              " 'catalogue/scott-pilgrims-precious-little-life-scott-pilgrim-1_987/index.html',\n",
              " 'catalogue/scott-pilgrims-precious-little-life-scott-pilgrim-1_987/index.html',\n",
              " 'catalogue/rip-it-up-and-start-again_986/index.html',\n",
              " 'catalogue/rip-it-up-and-start-again_986/index.html',\n",
              " 'catalogue/our-band-could-be-your-life-scenes-from-the-american-indie-underground-1981-1991_985/index.html',\n",
              " 'catalogue/our-band-could-be-your-life-scenes-from-the-american-indie-underground-1981-1991_985/index.html',\n",
              " 'catalogue/olio_984/index.html',\n",
              " 'catalogue/olio_984/index.html',\n",
              " 'catalogue/mesaerion-the-best-science-fiction-stories-1800-1849_983/index.html',\n",
              " 'catalogue/mesaerion-the-best-science-fiction-stories-1800-1849_983/index.html',\n",
              " 'catalogue/libertarianism-for-beginners_982/index.html',\n",
              " 'catalogue/libertarianism-for-beginners_982/index.html',\n",
              " 'catalogue/its-only-the-himalayas_981/index.html',\n",
              " 'catalogue/its-only-the-himalayas_981/index.html',\n",
              " 'catalogue/page-2.html']"
            ]
          },
          "execution_count": 41,
          "metadata": {},
          "output_type": "execute_result"
        }
      ],
      "source": [
        "page_links"
      ]
    },
    {
      "cell_type": "markdown",
      "metadata": {
        "id": "C64-8EaeK7-_"
      },
      "source": [
        "Мы получили **все ссылки с главной страницы**. Теперь мы х**отим собрать ссылки на каждую книгу**. На этом сайте это можно сделать двумя сособами:\n",
        "\n",
        "1. **Через общий раздел `Books`** где сохранены все книги. Тут нам нужно будет извлекать **ссылку на следующую страницу**, т.к. за раз на странице отображены 20 книг.\n",
        "2. **Через разделы отдельных категорий книг**. Там нам тоже иногда придётся \"листать\".\n",
        "  * **Преимущество**: мы **сразу знаем категорию** всех книг на такой странице и можем напрямую записать её в нашу таблицу.\n",
        "\n",
        "Так как нам в любом случае придётся \"листать\", давайте **ВЫБЕРЕМ ПЕРВЫЙ СПОСОБ**. Информацию о категории мы найдём и на каждой странице отдельных книг.\n"
      ]
    },
    {
      "cell_type": "markdown",
      "metadata": {
        "id": "rL-MDp53Fugh"
      },
      "source": [
        "\n",
        "**Нам нужно будет каким-то образом забраться на следующую страницу**.\n",
        "\n",
        "На сайте это можно делать просто щёлкая на кнопку **`next`** в правом нижнем углу, если она есть. javascript-функции откроют новую страницу с книгами. Но сейчас трогать эти функции не хочется.\n",
        "\n",
        "Обычно, все параметры, которые мы устанавливаем на сайте для поиска, отображаются на структуре хрефа. Книги не являются исключением. Если мы хотим получить первую порцию книг, мы должны будем обратиться к сайту по ссылке\n",
        "\n",
        "                `https://books.toscrape.com/index.html`\n",
        "\n",
        "\n",
        "Если мы захотим получить вторую поцию с двадцатью книгами, нам придётся немного видоизменить ссылку. Если нажать на кнопку **`next`**, то мы получим эту ссылку:\n",
        "\n",
        "\n",
        "            `https://books.toscrape.com/catalogue/page-2.html`\n",
        "\n",
        "Если мы присмотримся внимательно к последнему элементу в нашем списке **`page_links`**, то увидим, что это и есть ссылка на следующую страницу. Можно брать следующую страницу либо из списка всех ссылок на текущей странице, либо через поиск html-тэга с кнопкой **`next`**, извлекая оттуда ссылку или через простую самостоятельную генерацтю ссылок нужного формата.\n",
        "\n",
        "Третью страницу мы получим через:\n",
        "\n",
        "            `https://books.toscrape.com/catalogue/page-3.html`\n",
        "\n",
        "И если попробовать открыть страницу, заканчивающуюся на **`page-1.html`**, то мы увидим, что она тоже существует и полностью соответствует стартовой странице.\n",
        "\n",
        "Значит, мы просто можем подставлять всё больший и больший индекс страницы, пока не заметим, что следующей страницы не существует. Таким незатейливым образом мы сможем пройтись по всем страницам и ограбить книжный магазин.\n",
        "\n",
        "Наконец, обернем в красивую функцию все-все манипуляции, проделанные выше:"
      ]
    },
    {
      "cell_type": "code",
      "execution_count": 42,
      "metadata": {
        "id": "R-PazHd6OIi-"
      },
      "outputs": [],
      "source": [
        "from typing import List\n",
        "\n",
        "def getBookPageLinks(page_number: int) -> List[str]:\n",
        "    \"\"\"\n",
        "        Возвращает список ссылок на книги, полученный с текущей страницы\n",
        "\n",
        "        page_number: int\n",
        "            номер страницы для парсинга\n",
        "\n",
        "    \"\"\"\n",
        "    # составляем ссылку на страницу поиска\n",
        "    page_link = f'https://books.toscrape.com/catalogue/page-{page_number}.html'\n",
        "\n",
        "    # запрашиваем данные по текущей странице\n",
        "    response = requests.get(page_link, headers={'User-Agent': UserAgent().chrome})\n",
        "\n",
        "    if not response.ok:\n",
        "        # если сервер нам отказал, вернем пустой лист для текущей страницы\n",
        "        return []\n",
        "\n",
        "    # получаем содержимое страницы и переводим в суп\n",
        "    html = response.content\n",
        "    soup = BeautifulSoup(html,'html.parser')\n",
        "\n",
        "    # наконец, ищем ссылки на мемы и очищаем их от ненужных тэгов\n",
        "    meme_links = soup.findAll(lambda tag: tag.name == 'a' and tag.get('class') == ['photo'])\n",
        "\n",
        "    # ищем все div tags с class 'image_container'\n",
        "    book_containers = soup.findAll(lambda tag: tag.name == 'div' and tag.get('class') == ['image_container'])\n",
        "\n",
        "    # извлекаем href из ПЕРВОГО <a> tag внутри каждого div\n",
        "    book_links = [container.find('a')['href'] for container in book_containers if container.find('a')]\n",
        "\n",
        "    return book_links"
      ]
    },
    {
      "cell_type": "markdown",
      "metadata": {
        "id": "NtGn5DVTlBbr"
      },
      "source": [
        "Протестируем функцию и убедимся, что всё хорошо"
      ]
    },
    {
      "cell_type": "code",
      "execution_count": 43,
      "metadata": {
        "colab": {
          "base_uri": "https://localhost:8080/",
          "height": 35
        },
        "id": "v6DAFSbXOIc7",
        "outputId": "4037f12a-8eb5-4633-8a93-7ceeb75b0a32"
      },
      "outputs": [
        {
          "data": {
            "text/plain": [
              "'slow-states-of-collapse-poems_960/index.html'"
            ]
          },
          "execution_count": 43,
          "metadata": {},
          "output_type": "execute_result"
        }
      ],
      "source": [
        "book_links_page_3 = getBookPageLinks(3)\n",
        "len(book_links_page_3)\n",
        "book_links_page_3[0]"
      ]
    },
    {
      "cell_type": "code",
      "execution_count": 44,
      "metadata": {
        "colab": {
          "base_uri": "https://localhost:8080/"
        },
        "id": "xrm-86fqjv-K",
        "outputId": "a41f71af-03bb-4093-d8d2-2b5758968fea"
      },
      "outputs": [
        {
          "name": "stdout",
          "output_type": "stream",
          "text": [
            "Page does not exist!\n"
          ]
        }
      ],
      "source": [
        "# check if URL exists\n",
        "try:\n",
        "    response = requests.get(book_links_page_3[0], headers={'User-Agent': UserAgent().chrome})\n",
        "    print(\"Success!\")\n",
        "except:\n",
        "    print(\"Page does not exist!\")"
      ]
    },
    {
      "cell_type": "markdown",
      "metadata": {
        "id": "p4m0Zy2BhJmR"
      },
      "source": [
        "Мы видим, что мы получили **сокращённые ссылки**. Давайте **добавим** к каждой ссылке **префикс** сайта:"
      ]
    },
    {
      "cell_type": "code",
      "execution_count": 45,
      "metadata": {
        "id": "6O1fMdQBhUnf"
      },
      "outputs": [],
      "source": [
        "def add_page_prefix(prefix: str, list_of_urls: List[str]) -> List[str]:\n",
        "    \"\"\"\n",
        "        Добавляет к каждой ссылке на книгу префикс сайта\n",
        "\n",
        "        prefix: str\n",
        "            префикс для действующей ссылки\n",
        "\n",
        "        list_of_urls: List[str]\n",
        "            список кратких ссылок без префиксов\n",
        "    \"\"\"\n",
        "    extended_urls = []\n",
        "\n",
        "    for url in list_of_urls:\n",
        "        extended_urls.append(prefix + url)\n",
        "    return extended_urls"
      ]
    },
    {
      "cell_type": "code",
      "execution_count": 46,
      "metadata": {
        "id": "9oF9zR7NiotR"
      },
      "outputs": [],
      "source": [
        "book_prefix = 'https://books.toscrape.com/catalogue/'\n",
        "\n",
        "book_links_page_3_extended = add_page_prefix(prefix=book_prefix, list_of_urls=book_links_page_3)"
      ]
    },
    {
      "cell_type": "code",
      "execution_count": 47,
      "metadata": {
        "colab": {
          "base_uri": "https://localhost:8080/"
        },
        "id": "RDyfaYiXU3oL",
        "outputId": "4bcbeda2-3c27-4b41-86f3-fa8dcd8efaf1"
      },
      "outputs": [
        {
          "name": "stdout",
          "output_type": "stream",
          "text": [
            "https://books.toscrape.com/catalogue/slow-states-of-collapse-poems_960/index.html\n",
            "https://books.toscrape.com/catalogue/reasons-to-stay-alive_959/index.html\n",
            "https://books.toscrape.com/catalogue/private-paris-private-10_958/index.html\n",
            "https://books.toscrape.com/catalogue/higherselfie-wake-up-your-life-free-your-soul-find-your-tribe_957/index.html\n",
            "https://books.toscrape.com/catalogue/without-borders-wanderlove-1_956/index.html\n",
            "https://books.toscrape.com/catalogue/when-we-collided_955/index.html\n",
            "https://books.toscrape.com/catalogue/we-love-you-charlie-freeman_954/index.html\n",
            "https://books.toscrape.com/catalogue/untitled-collection-sabbath-poems-2014_953/index.html\n",
            "https://books.toscrape.com/catalogue/unseen-city-the-majesty-of-pigeons-the-discreet-charm-of-snails-other-wonders-of-the-urban-wilderness_952/index.html\n",
            "https://books.toscrape.com/catalogue/unicorn-tracks_951/index.html\n",
            "https://books.toscrape.com/catalogue/unbound-how-eight-technologies-made-us-human-transformed-society-and-brought-our-world-to-the-brink_950/index.html\n",
            "https://books.toscrape.com/catalogue/tsubasa-world-chronicle-2-tsubasa-world-chronicle-2_949/index.html\n",
            "https://books.toscrape.com/catalogue/throwing-rocks-at-the-google-bus-how-growth-became-the-enemy-of-prosperity_948/index.html\n",
            "https://books.toscrape.com/catalogue/this-one-summer_947/index.html\n",
            "https://books.toscrape.com/catalogue/thirst_946/index.html\n",
            "https://books.toscrape.com/catalogue/the-torch-is-passed-a-harding-family-story_945/index.html\n",
            "https://books.toscrape.com/catalogue/the-secret-of-dreadwillow-carse_944/index.html\n",
            "https://books.toscrape.com/catalogue/the-pioneer-woman-cooks-dinnertime-comfort-classics-freezer-food-16-minute-meals-and-other-delicious-ways-to-solve-supper_943/index.html\n",
            "https://books.toscrape.com/catalogue/the-past-never-ends_942/index.html\n",
            "https://books.toscrape.com/catalogue/the-natural-history-of-us-the-fine-art-of-pretending-2_941/index.html\n"
          ]
        }
      ],
      "source": [
        "for page_url in book_links_page_3_extended:\n",
        "  print(page_url)"
      ]
    },
    {
      "cell_type": "code",
      "execution_count": 48,
      "metadata": {
        "colab": {
          "base_uri": "https://localhost:8080/"
        },
        "id": "GNvazTYyktFa",
        "outputId": "344cc7c6-6592-41a0-91b6-a8783dbaadc3"
      },
      "outputs": [
        {
          "name": "stdout",
          "output_type": "stream",
          "text": [
            "Success!\n"
          ]
        }
      ],
      "source": [
        "# check if extended URL exists\n",
        "try:\n",
        "    response = requests.get(book_links_page_3_extended[0], headers={'User-Agent': UserAgent().chrome})\n",
        "    print(\"Success!\")\n",
        "except:\n",
        "    print(\"Page does not exist!\")"
      ]
    },
    {
      "cell_type": "markdown",
      "metadata": {
        "id": "EG-HSv96lN2r"
      },
      "source": [
        "Отлично, функция работает и теперь мы теоретически можем достать ссылки на все книги, для чего нам придется пройтись по 50 страницам. Прежде чем расстраивать сервер таким количеством запросов, посмотрим, как доставать всю необходимую информацию о конкретной книге."
      ]
    },
    {
      "cell_type": "markdown",
      "metadata": {
        "id": "i8-cvoHm83Tk"
      },
      "source": [
        "Давайте теперь соберём ссылки на все книги со всех страниц!"
      ]
    },
    {
      "cell_type": "code",
      "execution_count": 49,
      "metadata": {
        "colab": {
          "base_uri": "https://localhost:8080/"
        },
        "id": "gYVIJ7Wb84oR",
        "outputId": "1664f694-9fbc-4e29-86a4-af358f436e28"
      },
      "outputs": [
        {
          "name": "stdout",
          "output_type": "stream",
          "text": [
            "processing page 5 ...\n",
            "processing page 10 ...\n",
            "processing page 15 ...\n",
            "processing page 20 ...\n",
            "processing page 25 ...\n",
            "processing page 30 ...\n",
            "processing page 35 ...\n",
            "processing page 40 ...\n",
            "processing page 45 ...\n",
            "processing page 50 ...\n",
            "Page 51 could not be read or it does not exist!\n",
            "Page 52 could not be read or it does not exist!\n",
            "Page 53 could not be read or it does not exist!\n",
            "Stopping due to 3 consecutive errors.\n"
          ]
        }
      ],
      "source": [
        "# get urls of all books in store\n",
        "book_links = []\n",
        "\n",
        "book_prefix = 'https://books.toscrape.com/catalogue/'\n",
        "\n",
        "page_number = 1\n",
        "num_subsequent_errors = 0\n",
        "\n",
        "while True:\n",
        "    if page_number % 5 == 0:\n",
        "        print(f'processing page {page_number} ...')\n",
        "    # Attempt to get book links from the current page\n",
        "    book_links_from_current_page = getBookPageLinks(page_number=page_number)\n",
        "    if book_links_from_current_page != []:\n",
        "        # add prefix\n",
        "        book_links_from_current_page = add_page_prefix(prefix=book_prefix, list_of_urls=book_links_from_current_page)\n",
        "        book_links.extend(book_links_from_current_page)\n",
        "        # Reset error counter since this page was successfully read\n",
        "        num_subsequent_errors = 0\n",
        "        # Increment to the next page\n",
        "        page_number += 1\n",
        "    else:\n",
        "        print(f'Page {page_number} could not be read or it does not exist!')\n",
        "        # Increment error counter\n",
        "        num_subsequent_errors += 1\n",
        "        page_number += 1  # Still increment page number to move forward\n",
        "\n",
        "        # Stop if 3 errors in a row occur\n",
        "        if num_subsequent_errors == 3:\n",
        "            print(\"Stopping due to 3 consecutive errors.\")\n",
        "            break"
      ]
    },
    {
      "cell_type": "code",
      "execution_count": null,
      "metadata": {
        "colab": {
          "base_uri": "https://localhost:8080/"
        },
        "id": "6AdNsluc84k4",
        "outputId": "20246bde-9560-423b-aef9-0ddb47ac735a"
      },
      "outputs": [
        {
          "name": "stdout",
          "output_type": "stream",
          "text": [
            "1000 book urls could be found in the book store.\n"
          ]
        }
      ],
      "source": [
        "print(f'{len(book_links)} book urls could be found in the book store.')"
      ]
    },
    {
      "cell_type": "markdown",
      "metadata": {
        "id": "YYjuK9I-Fugj"
      },
      "source": [
        "## 1.6 Финальная подготовка к грабежу\n",
        "\n",
        "По аналогии со ссылками можно вытащить что угодно. Для этого надо сделать несколько шагов:\n",
        "\n",
        "1. Открываем страничку с книгой\n",
        "2. Находим любым способом тег для нужной нам информации\n",
        "3. Пихаем всё это в красивый суп\n",
        "4. ......\n",
        "5. Profit\n",
        "\n",
        "Для закрепления информации в голове любознательного читателя, **вытащим всю интересующую нас информацию о книге**.\n",
        "\n",
        "А в качестве примера возьмем самую первую книгу на сайте.\n",
        "\n",
        "Как и прежде, для начала сохраним ссылку на страницу в переменную и вытащим по ней контент."
      ]
    },
    {
      "cell_type": "markdown",
      "metadata": {
        "id": "H8OSD8mEnwz5"
      },
      "source": [
        "Давайте вытащим **название книги** (Name), её **рейтинг** (Rating), **стоимость** (Price), **наличие** (Availability), **жанр** (Category), **код книги** (UPC) и **ссылку** на саму книгу (URL)."
      ]
    },
    {
      "cell_type": "code",
      "execution_count": 50,
      "metadata": {
        "id": "vinDMAGHmSSC"
      },
      "outputs": [],
      "source": [
        "def getStats(soup) -> dict:\n",
        "    \"\"\"\n",
        "\n",
        "    \"\"\"\n",
        "    # get main part with main info (we assume it is always given)\n",
        "    product_main = soup.find(lambda tag: tag.name == 'div' and tag.get('class') == ['col-sm-6', 'product_main'])\n",
        "\n",
        "    #####################################\n",
        "    #  get BOOK NAME from main section  #\n",
        "    #####################################\n",
        "    if product_main:\n",
        "      name = product_main.find('h1').text.strip()\n",
        "      if not name:\n",
        "        name = 'incognito'\n",
        "    else:\n",
        "      name = 'incognito'\n",
        "\n",
        "    ################\n",
        "    #  get RATING  #\n",
        "    ################\n",
        "    # get tag holding RATING stars\n",
        "    rating_element = product_main.find(lambda tag: tag.name == 'p' and 'star-rating' in tag.get('class'))\n",
        "    # get rating as word\n",
        "    if rating_element:\n",
        "        rating_word = rating_element.get('class')[-1]\n",
        "        if rating_word:\n",
        "            # map rating word to a number\n",
        "            if rating_word == \"One\":\n",
        "                rating = 1\n",
        "            elif rating_word == \"Two\":\n",
        "                rating = 2\n",
        "            elif rating_word == \"Three\":\n",
        "                rating = 3\n",
        "            elif rating_word == \"Four\":\n",
        "                rating = 4\n",
        "            elif rating_word == \"Five\":\n",
        "                rating = 5\n",
        "    else:\n",
        "        rating = -1\n",
        "\n",
        "    ###############\n",
        "    #  get PRICE  #\n",
        "    ###############\n",
        "    price = product_main.find(lambda tag: tag.name == 'p' and tag.get('class') == ['price_color']).text.strip()\n",
        "    if not price:\n",
        "        price = '£00.00'\n",
        "\n",
        "    ##########################################\n",
        "    #  get AVAILABILITY (always 'in stock')  #\n",
        "    ##########################################\n",
        "    availability = 'in stock' # TODO update if new values arise\n",
        "\n",
        "    ##################\n",
        "    #  get CATEGORY  #\n",
        "    ##################\n",
        "    category_element = soup.find(lambda tag: tag.name == 'ul' and tag.get('class') == ['breadcrumb'])\n",
        "    if category_element:\n",
        "        # Get the third <li> element (index 2)\n",
        "        third_li = category_element.find_all('li')[2]\n",
        "        # Extract the text from the <a> tag inside the third <li>\n",
        "        if third_li.find('a'):\n",
        "            category = third_li.find('a').text.strip()\n",
        "    else:\n",
        "        category = \"Unknown\"\n",
        "\n",
        "    ##################\n",
        "    #  get UPC CODE  #\n",
        "    ##################\n",
        "    # Find the <table> with the class 'table table-striped'\n",
        "    table = soup.find('table', class_='table table-striped')\n",
        "\n",
        "    if table:\n",
        "        # Find the row where <th> contains \"UPC\" and get the corresponding <td> value\n",
        "        for row in table.find_all('tr'):\n",
        "            th = row.find('th')\n",
        "            if th and th.get_text(strip=True) == 'UPC':\n",
        "                upc = row.find('td').get_text(strip=True)\n",
        "                break\n",
        "    else:\n",
        "        upc = \"Unknown\"\n",
        "\n",
        "    # collect and return results\n",
        "    return {\n",
        "        \"name\": name,\n",
        "        \"rating\": rating,\n",
        "        \"price\": price,\n",
        "        \"availability\": availability,\n",
        "        \"category\": category,\n",
        "        \"upc\": upc,\n",
        "    }\n"
      ]
    },
    {
      "cell_type": "markdown",
      "metadata": {
        "id": "9ZARMk2UFugl"
      },
      "source": [
        "На самом деле, **парсеры — дело непредсказуемое. Часто страницы, которые мы парсим, имеют очень неоднородну структуру**. Например, если мы парсим книги, на части страниц может быть указано описание, а на части нет. Как только код впервые натыкается на отсутствие описания, он выдаёт ошибку и останавливается. Чтобы нормально собрать все данные, **приходится прописывать исключения**. Вроде бы, хранилище книг хорошо оборудовано и никаких внештатных ситуаций происходить не должно. Тем не менее, очень не хочется проснуться утром и увидеть, что код сделал 20 итераций, нарвался на ошибку и отрубился.  Чтобы такого не произошло, можно, например, использовать конструкцию `try - except` и просто обрабатывать неугодные нам ошибки. Про исключения можно почитать [на просторах интернета](https://pythonworld.ru/tipy-dannyx-v-python/isklyucheniya-v-python-konstrukciya-try-except-dlya-obrabotki-isklyuchenij.html). В нашем же случае до ошибки можно и не доводить, а предварительно проверять, есть ли необходимый элемент на странице или нет при помощи обычного `if - else`, и уже после этого пытаться его распарсить.\n",
        "\n"
      ]
    },
    {
      "cell_type": "markdown",
      "metadata": {
        "id": "VbRkaP7qFugm"
      },
      "source": [
        "## Truthy & Falsy python\n",
        "[Подробнее](https://www.freecodecamp.org/news/truthy-and-falsy-values-in-python/)"
      ]
    },
    {
      "cell_type": "markdown",
      "metadata": {
        "id": "Zdy-LI2ZFugm"
      },
      "source": [
        "Такой код позволяет обезопасить себя от ошибок в коде. В данном случае, мы можем переписать всю конструкцию с `if - else` в виде одной удобной строки. Эта строка проверит полон ли респонса `meme_status` и ежели нет, то выдаст пустоту."
      ]
    },
    {
      "cell_type": "code",
      "execution_count": null,
      "metadata": {
        "colab": {
          "base_uri": "https://localhost:8080/",
          "height": 35
        },
        "id": "oQHn5THMFugm",
        "outputId": "2ea3d030-3934-4dd3-e186-ed0c91cb4424"
      },
      "outputs": [
        {
          "data": {
            "application/vnd.google.colaboratory.intrinsic+json": {
              "type": "string"
            },
            "text/plain": [
              "'Hello'"
            ]
          },
          "execution_count": 53,
          "metadata": {},
          "output_type": "execute_result"
        }
      ],
      "source": [
        "\"Hello\" if True else \"Bye\""
      ]
    },
    {
      "cell_type": "code",
      "execution_count": null,
      "metadata": {
        "colab": {
          "base_uri": "https://localhost:8080/"
        },
        "id": "HsvTFH9fFugn",
        "outputId": "24591c5a-47a7-460d-c8bf-2515e522c3d3"
      },
      "outputs": [
        {
          "data": {
            "text/plain": [
              "1"
            ]
          },
          "execution_count": 54,
          "metadata": {},
          "output_type": "execute_result"
        }
      ],
      "source": [
        "1 if (\"a\" in ['a', 'b']) or ('c' in [1, 4]) else 0"
      ]
    },
    {
      "cell_type": "code",
      "execution_count": null,
      "metadata": {
        "colab": {
          "base_uri": "https://localhost:8080/"
        },
        "id": "l1EqDBhb6yiV",
        "outputId": "2440c756-ea89-4a16-8ec2-3abcdb245e85"
      },
      "outputs": [
        {
          "data": {
            "text/plain": [
              "0"
            ]
          },
          "execution_count": 55,
          "metadata": {},
          "output_type": "execute_result"
        }
      ],
      "source": [
        "1 if (\"a\" in ['a', 'b']) and ('c' in [1, 4]) else 0"
      ]
    },
    {
      "cell_type": "markdown",
      "metadata": {
        "id": "04QupfWdFugo"
      },
      "source": [
        "Наконец, создадим функцию, возвращающую всю информацию по текущей книги"
      ]
    },
    {
      "cell_type": "code",
      "execution_count": null,
      "metadata": {
        "id": "4mkrx_vl5ZML"
      },
      "outputs": [],
      "source": [
        "def getBookData(book_page: str) -> dict:\n",
        "    \"\"\"\n",
        "        Запрашивает данные по странице, возвращает обработанный словарь с данными\n",
        "\n",
        "        book_page: string\n",
        "            ссылка на страницу с книгой\n",
        "\n",
        "    \"\"\"\n",
        "\n",
        "    # запрашиваем данные по ссылке\n",
        "    response = requests.get(book_page, headers={'User-Agent': UserAgent().chrome})\n",
        "\n",
        "    if not response.ok:\n",
        "        # если сервер нам отказал, вернем статус ошибки\n",
        "        return response.status_code\n",
        "\n",
        "    # получаем содержимое страницы и переводим в суп\n",
        "    html = response.content\n",
        "    soup = BeautifulSoup(html,'html.parser')\n",
        "\n",
        "    # используя ранее написанную функцию парсим информацию\n",
        "    data_row = getStats(soup)\n",
        "\n",
        "    # добавляем ссылку\n",
        "    data_row['book_url'] = book_page\n",
        "\n",
        "    return data_row"
      ]
    },
    {
      "cell_type": "code",
      "execution_count": null,
      "metadata": {
        "id": "AXXo4wN95kYF"
      },
      "outputs": [],
      "source": [
        "data_row = getBookData(book_page='https://books.toscrape.com/catalogue/a-light-in-the-attic_1000/index.html')"
      ]
    },
    {
      "cell_type": "code",
      "execution_count": null,
      "metadata": {
        "colab": {
          "base_uri": "https://localhost:8080/"
        },
        "id": "IUbxnp7AP_uo",
        "outputId": "225ddac6-472b-45dc-aef4-22717c9fe103"
      },
      "outputs": [
        {
          "data": {
            "text/plain": [
              "{'name': 'A Light in the Attic',\n",
              " 'rating': 3,\n",
              " 'price': '£51.77',\n",
              " 'availability': 'in stock',\n",
              " 'category': 'Poetry',\n",
              " 'upc': 'a897fe39b1053632',\n",
              " 'book_url': 'https://books.toscrape.com/catalogue/a-light-in-the-attic_1000/index.html'}"
            ]
          },
          "execution_count": 58,
          "metadata": {},
          "output_type": "execute_result"
        }
      ],
      "source": [
        "data_row"
      ]
    },
    {
      "cell_type": "markdown",
      "metadata": {
        "id": "smDLqxXeFugo"
      },
      "source": [
        "А теперь подготовим табличку, чтобы в неё записывать всё ~~награбленные~~ честно полученные данные, добавим в неё первую полученную строку и полюбуемся на результат"
      ]
    },
    {
      "cell_type": "code",
      "execution_count": null,
      "metadata": {
        "id": "ZhQv3iciFugo"
      },
      "outputs": [],
      "source": [
        "final_df = pd.DataFrame(columns=['Name',  'Rating', 'Price', 'Availability',\n",
        "                                 'Category', 'UPC', 'BOOK_URL'])"
      ]
    },
    {
      "cell_type": "code",
      "execution_count": null,
      "metadata": {
        "id": "vidS64jbFugo"
      },
      "outputs": [],
      "source": [
        "# final_df = final_df.append(data_row, ignore_index=True).dropna(axis = 1) # NOTE deprecated in pandas 2.x\n",
        "\n",
        "# Assuming final_df and data_row are already defined\n",
        "final_df = pd.concat([final_df, pd.DataFrame([data_row])], ignore_index=True).dropna(axis=1)"
      ]
    },
    {
      "cell_type": "code",
      "execution_count": null,
      "metadata": {
        "colab": {
          "base_uri": "https://localhost:8080/",
          "height": 80
        },
        "id": "W0YGjZPnFugp",
        "outputId": "9172a917-46ea-4cde-99f7-19702f382163"
      },
      "outputs": [
        {
          "data": {
            "application/vnd.google.colaboratory.intrinsic+json": {
              "summary": "{\n  \"name\": \"final_df\",\n  \"rows\": 1,\n  \"fields\": [\n    {\n      \"column\": \"name\",\n      \"properties\": {\n        \"dtype\": \"string\",\n        \"num_unique_values\": 1,\n        \"samples\": [\n          \"A Light in the Attic\"\n        ],\n        \"semantic_type\": \"\",\n        \"description\": \"\"\n      }\n    },\n    {\n      \"column\": \"rating\",\n      \"properties\": {\n        \"dtype\": \"number\",\n        \"std\": null,\n        \"min\": 3.0,\n        \"max\": 3.0,\n        \"num_unique_values\": 1,\n        \"samples\": [\n          3.0\n        ],\n        \"semantic_type\": \"\",\n        \"description\": \"\"\n      }\n    },\n    {\n      \"column\": \"price\",\n      \"properties\": {\n        \"dtype\": \"string\",\n        \"num_unique_values\": 1,\n        \"samples\": [\n          \"\\u00a351.77\"\n        ],\n        \"semantic_type\": \"\",\n        \"description\": \"\"\n      }\n    },\n    {\n      \"column\": \"availability\",\n      \"properties\": {\n        \"dtype\": \"string\",\n        \"num_unique_values\": 1,\n        \"samples\": [\n          \"in stock\"\n        ],\n        \"semantic_type\": \"\",\n        \"description\": \"\"\n      }\n    },\n    {\n      \"column\": \"category\",\n      \"properties\": {\n        \"dtype\": \"string\",\n        \"num_unique_values\": 1,\n        \"samples\": [\n          \"Poetry\"\n        ],\n        \"semantic_type\": \"\",\n        \"description\": \"\"\n      }\n    },\n    {\n      \"column\": \"upc\",\n      \"properties\": {\n        \"dtype\": \"string\",\n        \"num_unique_values\": 1,\n        \"samples\": [\n          \"a897fe39b1053632\"\n        ],\n        \"semantic_type\": \"\",\n        \"description\": \"\"\n      }\n    },\n    {\n      \"column\": \"book_url\",\n      \"properties\": {\n        \"dtype\": \"string\",\n        \"num_unique_values\": 1,\n        \"samples\": [\n          \"https://books.toscrape.com/catalogue/a-light-in-the-attic_1000/index.html\"\n        ],\n        \"semantic_type\": \"\",\n        \"description\": \"\"\n      }\n    }\n  ]\n}",
              "type": "dataframe",
              "variable_name": "final_df"
            },
            "text/html": [
              "\n",
              "  <div id=\"df-1361baf0-9af2-4d11-ac55-ccbfb1435588\" class=\"colab-df-container\">\n",
              "    <div>\n",
              "<style scoped>\n",
              "    .dataframe tbody tr th:only-of-type {\n",
              "        vertical-align: middle;\n",
              "    }\n",
              "\n",
              "    .dataframe tbody tr th {\n",
              "        vertical-align: top;\n",
              "    }\n",
              "\n",
              "    .dataframe thead th {\n",
              "        text-align: right;\n",
              "    }\n",
              "</style>\n",
              "<table border=\"1\" class=\"dataframe\">\n",
              "  <thead>\n",
              "    <tr style=\"text-align: right;\">\n",
              "      <th></th>\n",
              "      <th>name</th>\n",
              "      <th>rating</th>\n",
              "      <th>price</th>\n",
              "      <th>availability</th>\n",
              "      <th>category</th>\n",
              "      <th>upc</th>\n",
              "      <th>book_url</th>\n",
              "    </tr>\n",
              "  </thead>\n",
              "  <tbody>\n",
              "    <tr>\n",
              "      <th>0</th>\n",
              "      <td>A Light in the Attic</td>\n",
              "      <td>3.0</td>\n",
              "      <td>£51.77</td>\n",
              "      <td>in stock</td>\n",
              "      <td>Poetry</td>\n",
              "      <td>a897fe39b1053632</td>\n",
              "      <td>https://books.toscrape.com/catalogue/a-light-i...</td>\n",
              "    </tr>\n",
              "  </tbody>\n",
              "</table>\n",
              "</div>\n",
              "    <div class=\"colab-df-buttons\">\n",
              "\n",
              "  <div class=\"colab-df-container\">\n",
              "    <button class=\"colab-df-convert\" onclick=\"convertToInteractive('df-1361baf0-9af2-4d11-ac55-ccbfb1435588')\"\n",
              "            title=\"Convert this dataframe to an interactive table.\"\n",
              "            style=\"display:none;\">\n",
              "\n",
              "  <svg xmlns=\"http://www.w3.org/2000/svg\" height=\"24px\" viewBox=\"0 -960 960 960\">\n",
              "    <path d=\"M120-120v-720h720v720H120Zm60-500h600v-160H180v160Zm220 220h160v-160H400v160Zm0 220h160v-160H400v160ZM180-400h160v-160H180v160Zm440 0h160v-160H620v160ZM180-180h160v-160H180v160Zm440 0h160v-160H620v160Z\"/>\n",
              "  </svg>\n",
              "    </button>\n",
              "\n",
              "  <style>\n",
              "    .colab-df-container {\n",
              "      display:flex;\n",
              "      gap: 12px;\n",
              "    }\n",
              "\n",
              "    .colab-df-convert {\n",
              "      background-color: #E8F0FE;\n",
              "      border: none;\n",
              "      border-radius: 50%;\n",
              "      cursor: pointer;\n",
              "      display: none;\n",
              "      fill: #1967D2;\n",
              "      height: 32px;\n",
              "      padding: 0 0 0 0;\n",
              "      width: 32px;\n",
              "    }\n",
              "\n",
              "    .colab-df-convert:hover {\n",
              "      background-color: #E2EBFA;\n",
              "      box-shadow: 0px 1px 2px rgba(60, 64, 67, 0.3), 0px 1px 3px 1px rgba(60, 64, 67, 0.15);\n",
              "      fill: #174EA6;\n",
              "    }\n",
              "\n",
              "    .colab-df-buttons div {\n",
              "      margin-bottom: 4px;\n",
              "    }\n",
              "\n",
              "    [theme=dark] .colab-df-convert {\n",
              "      background-color: #3B4455;\n",
              "      fill: #D2E3FC;\n",
              "    }\n",
              "\n",
              "    [theme=dark] .colab-df-convert:hover {\n",
              "      background-color: #434B5C;\n",
              "      box-shadow: 0px 1px 3px 1px rgba(0, 0, 0, 0.15);\n",
              "      filter: drop-shadow(0px 1px 2px rgba(0, 0, 0, 0.3));\n",
              "      fill: #FFFFFF;\n",
              "    }\n",
              "  </style>\n",
              "\n",
              "    <script>\n",
              "      const buttonEl =\n",
              "        document.querySelector('#df-1361baf0-9af2-4d11-ac55-ccbfb1435588 button.colab-df-convert');\n",
              "      buttonEl.style.display =\n",
              "        google.colab.kernel.accessAllowed ? 'block' : 'none';\n",
              "\n",
              "      async function convertToInteractive(key) {\n",
              "        const element = document.querySelector('#df-1361baf0-9af2-4d11-ac55-ccbfb1435588');\n",
              "        const dataTable =\n",
              "          await google.colab.kernel.invokeFunction('convertToInteractive',\n",
              "                                                    [key], {});\n",
              "        if (!dataTable) return;\n",
              "\n",
              "        const docLinkHtml = 'Like what you see? Visit the ' +\n",
              "          '<a target=\"_blank\" href=https://colab.research.google.com/notebooks/data_table.ipynb>data table notebook</a>'\n",
              "          + ' to learn more about interactive tables.';\n",
              "        element.innerHTML = '';\n",
              "        dataTable['output_type'] = 'display_data';\n",
              "        await google.colab.output.renderOutput(dataTable, element);\n",
              "        const docLink = document.createElement('div');\n",
              "        docLink.innerHTML = docLinkHtml;\n",
              "        element.appendChild(docLink);\n",
              "      }\n",
              "    </script>\n",
              "  </div>\n",
              "\n",
              "    </div>\n",
              "  </div>\n"
            ],
            "text/plain": [
              "                   name  rating   price availability category  \\\n",
              "0  A Light in the Attic     3.0  £51.77     in stock   Poetry   \n",
              "\n",
              "                upc                                           book_url  \n",
              "0  a897fe39b1053632  https://books.toscrape.com/catalogue/a-light-i...  "
            ]
          },
          "execution_count": 61,
          "metadata": {},
          "output_type": "execute_result"
        }
      ],
      "source": [
        "final_df"
      ]
    },
    {
      "cell_type": "markdown",
      "metadata": {
        "id": "_pC_HY8mFugp"
      },
      "source": [
        "Первая книга оказалась в наших рукак. Еще раз убедимся что всё работает — пройдемся по списку из ссылок на все 1000 книги, полученных ранее в перменной **`book_links`**."
      ]
    },
    {
      "cell_type": "code",
      "execution_count": null,
      "metadata": {
        "id": "2QyDUaPx745S"
      },
      "outputs": [],
      "source": [
        "# from tqdm import tqdm_notebook\n",
        "from tqdm import tqdm, tqdm_notebook"
      ]
    },
    {
      "cell_type": "code",
      "execution_count": null,
      "metadata": {
        "id": "bR5HmB0FLVf-"
      },
      "outputs": [],
      "source": [
        "# NOTE: this cell takes long! (ca. minutes)\n",
        "\n",
        "counter = 1\n",
        "\n",
        "for book_link in tqdm_notebook(book_links):\n",
        "    try:\n",
        "        # Get book data\n",
        "        data_row = getBookData(book_link)\n",
        "\n",
        "        # Convert data_row (a dict) to a DataFrame\n",
        "        if isinstance(data_row, dict):\n",
        "            data_row = pd.DataFrame([data_row])\n",
        "\n",
        "        # Concatenate the new data row to final_df\n",
        "        final_df = pd.concat([final_df, data_row], ignore_index=True).dropna(axis=1)\n",
        "\n",
        "        # Sleep to prevent overwhelming the server\n",
        "        time.sleep(0.3)\n",
        "        if counter % 100 == 0:\n",
        "            print(f\"OK after {counter} book pages\")\n",
        "        counter += 1\n",
        "    except Exception as e:\n",
        "        print(f\"Exception occurred with {book_link}: {e}\")\n",
        "        counter += 1\n",
        "        continue"
      ]
    },
    {
      "cell_type": "code",
      "execution_count": null,
      "metadata": {
        "id": "MMJStcOlFugp"
      },
      "outputs": [],
      "source": [
        "final_df = final_df.drop_duplicates().dropna(axis = 1)"
      ]
    },
    {
      "cell_type": "code",
      "execution_count": null,
      "metadata": {
        "colab": {
          "base_uri": "https://localhost:8080/"
        },
        "id": "dOU6TZQIFugp",
        "outputId": "78c6f9cc-a7ea-45e7-ab10-f32344b545c7"
      },
      "outputs": [
        {
          "data": {
            "text/plain": [
              "(349, 7)"
            ]
          },
          "execution_count": 65,
          "metadata": {},
          "output_type": "execute_result"
        }
      ],
      "source": [
        "# show number of rows and columns\n",
        "final_df.shape"
      ]
    },
    {
      "cell_type": "code",
      "execution_count": null,
      "metadata": {
        "colab": {
          "base_uri": "https://localhost:8080/",
          "height": 206
        },
        "id": "jL3_7JwVFugq",
        "outputId": "955b5bb4-9081-4122-b3c2-3d1041b13607"
      },
      "outputs": [
        {
          "data": {
            "application/vnd.google.colaboratory.intrinsic+json": {
              "summary": "{\n  \"name\": \"final_df\",\n  \"rows\": 349,\n  \"fields\": [\n    {\n      \"column\": \"name\",\n      \"properties\": {\n        \"dtype\": \"string\",\n        \"num_unique_values\": 349,\n        \"samples\": [\n          \"The Genius of Birds\",\n          \"Adulthood Is a Myth: A \\\"Sarah's Scribbles\\\" Collection\",\n          \"Demigods & Magicians: Percy and Annabeth Meet the Kanes (Percy Jackson & Kane Chronicles Crossover #1-3)\"\n        ],\n        \"semantic_type\": \"\",\n        \"description\": \"\"\n      }\n    },\n    {\n      \"column\": \"rating\",\n      \"properties\": {\n        \"dtype\": \"number\",\n        \"std\": 1.434124737762413,\n        \"min\": 1.0,\n        \"max\": 5.0,\n        \"num_unique_values\": 5,\n        \"samples\": [\n          1.0,\n          2.0,\n          4.0\n        ],\n        \"semantic_type\": \"\",\n        \"description\": \"\"\n      }\n    },\n    {\n      \"column\": \"price\",\n      \"properties\": {\n        \"dtype\": \"string\",\n        \"num_unique_values\": 333,\n        \"samples\": [\n          \"\\u00a354.64\",\n          \"\\u00a343.28\",\n          \"\\u00a339.58\"\n        ],\n        \"semantic_type\": \"\",\n        \"description\": \"\"\n      }\n    },\n    {\n      \"column\": \"availability\",\n      \"properties\": {\n        \"dtype\": \"category\",\n        \"num_unique_values\": 1,\n        \"samples\": [\n          \"in stock\"\n        ],\n        \"semantic_type\": \"\",\n        \"description\": \"\"\n      }\n    },\n    {\n      \"column\": \"category\",\n      \"properties\": {\n        \"dtype\": \"category\",\n        \"num_unique_values\": 41,\n        \"samples\": [\n          \"Add a comment\"\n        ],\n        \"semantic_type\": \"\",\n        \"description\": \"\"\n      }\n    },\n    {\n      \"column\": \"upc\",\n      \"properties\": {\n        \"dtype\": \"string\",\n        \"num_unique_values\": 349,\n        \"samples\": [\n          \"42d0d7c92b75fc1c\"\n        ],\n        \"semantic_type\": \"\",\n        \"description\": \"\"\n      }\n    },\n    {\n      \"column\": \"book_url\",\n      \"properties\": {\n        \"dtype\": \"string\",\n        \"num_unique_values\": 349,\n        \"samples\": [\n          \"https://books.toscrape.com/catalogue/the-genius-of-birds_843/index.html\"\n        ],\n        \"semantic_type\": \"\",\n        \"description\": \"\"\n      }\n    }\n  ]\n}",
              "type": "dataframe",
              "variable_name": "final_df"
            },
            "text/html": [
              "\n",
              "  <div id=\"df-11292102-9058-4857-8f91-c27ef8c5711a\" class=\"colab-df-container\">\n",
              "    <div>\n",
              "<style scoped>\n",
              "    .dataframe tbody tr th:only-of-type {\n",
              "        vertical-align: middle;\n",
              "    }\n",
              "\n",
              "    .dataframe tbody tr th {\n",
              "        vertical-align: top;\n",
              "    }\n",
              "\n",
              "    .dataframe thead th {\n",
              "        text-align: right;\n",
              "    }\n",
              "</style>\n",
              "<table border=\"1\" class=\"dataframe\">\n",
              "  <thead>\n",
              "    <tr style=\"text-align: right;\">\n",
              "      <th></th>\n",
              "      <th>name</th>\n",
              "      <th>rating</th>\n",
              "      <th>price</th>\n",
              "      <th>availability</th>\n",
              "      <th>category</th>\n",
              "      <th>upc</th>\n",
              "      <th>book_url</th>\n",
              "    </tr>\n",
              "  </thead>\n",
              "  <tbody>\n",
              "    <tr>\n",
              "      <th>0</th>\n",
              "      <td>A Light in the Attic</td>\n",
              "      <td>3.0</td>\n",
              "      <td>£51.77</td>\n",
              "      <td>in stock</td>\n",
              "      <td>Poetry</td>\n",
              "      <td>a897fe39b1053632</td>\n",
              "      <td>https://books.toscrape.com/catalogue/a-light-i...</td>\n",
              "    </tr>\n",
              "    <tr>\n",
              "      <th>2</th>\n",
              "      <td>Tipping the Velvet</td>\n",
              "      <td>1.0</td>\n",
              "      <td>£53.74</td>\n",
              "      <td>in stock</td>\n",
              "      <td>Historical Fiction</td>\n",
              "      <td>90fa61229261140a</td>\n",
              "      <td>https://books.toscrape.com/catalogue/tipping-t...</td>\n",
              "    </tr>\n",
              "    <tr>\n",
              "      <th>3</th>\n",
              "      <td>Soumission</td>\n",
              "      <td>1.0</td>\n",
              "      <td>£50.10</td>\n",
              "      <td>in stock</td>\n",
              "      <td>Fiction</td>\n",
              "      <td>6957f44c3847a760</td>\n",
              "      <td>https://books.toscrape.com/catalogue/soumissio...</td>\n",
              "    </tr>\n",
              "    <tr>\n",
              "      <th>4</th>\n",
              "      <td>Sharp Objects</td>\n",
              "      <td>4.0</td>\n",
              "      <td>£47.82</td>\n",
              "      <td>in stock</td>\n",
              "      <td>Mystery</td>\n",
              "      <td>e00eb4fd7b871a48</td>\n",
              "      <td>https://books.toscrape.com/catalogue/sharp-obj...</td>\n",
              "    </tr>\n",
              "    <tr>\n",
              "      <th>5</th>\n",
              "      <td>Sapiens: A Brief History of Humankind</td>\n",
              "      <td>5.0</td>\n",
              "      <td>£54.23</td>\n",
              "      <td>in stock</td>\n",
              "      <td>History</td>\n",
              "      <td>4165285e1663650f</td>\n",
              "      <td>https://books.toscrape.com/catalogue/sapiens-a...</td>\n",
              "    </tr>\n",
              "  </tbody>\n",
              "</table>\n",
              "</div>\n",
              "    <div class=\"colab-df-buttons\">\n",
              "\n",
              "  <div class=\"colab-df-container\">\n",
              "    <button class=\"colab-df-convert\" onclick=\"convertToInteractive('df-11292102-9058-4857-8f91-c27ef8c5711a')\"\n",
              "            title=\"Convert this dataframe to an interactive table.\"\n",
              "            style=\"display:none;\">\n",
              "\n",
              "  <svg xmlns=\"http://www.w3.org/2000/svg\" height=\"24px\" viewBox=\"0 -960 960 960\">\n",
              "    <path d=\"M120-120v-720h720v720H120Zm60-500h600v-160H180v160Zm220 220h160v-160H400v160Zm0 220h160v-160H400v160ZM180-400h160v-160H180v160Zm440 0h160v-160H620v160ZM180-180h160v-160H180v160Zm440 0h160v-160H620v160Z\"/>\n",
              "  </svg>\n",
              "    </button>\n",
              "\n",
              "  <style>\n",
              "    .colab-df-container {\n",
              "      display:flex;\n",
              "      gap: 12px;\n",
              "    }\n",
              "\n",
              "    .colab-df-convert {\n",
              "      background-color: #E8F0FE;\n",
              "      border: none;\n",
              "      border-radius: 50%;\n",
              "      cursor: pointer;\n",
              "      display: none;\n",
              "      fill: #1967D2;\n",
              "      height: 32px;\n",
              "      padding: 0 0 0 0;\n",
              "      width: 32px;\n",
              "    }\n",
              "\n",
              "    .colab-df-convert:hover {\n",
              "      background-color: #E2EBFA;\n",
              "      box-shadow: 0px 1px 2px rgba(60, 64, 67, 0.3), 0px 1px 3px 1px rgba(60, 64, 67, 0.15);\n",
              "      fill: #174EA6;\n",
              "    }\n",
              "\n",
              "    .colab-df-buttons div {\n",
              "      margin-bottom: 4px;\n",
              "    }\n",
              "\n",
              "    [theme=dark] .colab-df-convert {\n",
              "      background-color: #3B4455;\n",
              "      fill: #D2E3FC;\n",
              "    }\n",
              "\n",
              "    [theme=dark] .colab-df-convert:hover {\n",
              "      background-color: #434B5C;\n",
              "      box-shadow: 0px 1px 3px 1px rgba(0, 0, 0, 0.15);\n",
              "      filter: drop-shadow(0px 1px 2px rgba(0, 0, 0, 0.3));\n",
              "      fill: #FFFFFF;\n",
              "    }\n",
              "  </style>\n",
              "\n",
              "    <script>\n",
              "      const buttonEl =\n",
              "        document.querySelector('#df-11292102-9058-4857-8f91-c27ef8c5711a button.colab-df-convert');\n",
              "      buttonEl.style.display =\n",
              "        google.colab.kernel.accessAllowed ? 'block' : 'none';\n",
              "\n",
              "      async function convertToInteractive(key) {\n",
              "        const element = document.querySelector('#df-11292102-9058-4857-8f91-c27ef8c5711a');\n",
              "        const dataTable =\n",
              "          await google.colab.kernel.invokeFunction('convertToInteractive',\n",
              "                                                    [key], {});\n",
              "        if (!dataTable) return;\n",
              "\n",
              "        const docLinkHtml = 'Like what you see? Visit the ' +\n",
              "          '<a target=\"_blank\" href=https://colab.research.google.com/notebooks/data_table.ipynb>data table notebook</a>'\n",
              "          + ' to learn more about interactive tables.';\n",
              "        element.innerHTML = '';\n",
              "        dataTable['output_type'] = 'display_data';\n",
              "        await google.colab.output.renderOutput(dataTable, element);\n",
              "        const docLink = document.createElement('div');\n",
              "        docLink.innerHTML = docLinkHtml;\n",
              "        element.appendChild(docLink);\n",
              "      }\n",
              "    </script>\n",
              "  </div>\n",
              "\n",
              "\n",
              "    <div id=\"df-fbb6e3be-c14e-4420-b0dc-11f47458d36a\">\n",
              "      <button class=\"colab-df-quickchart\" onclick=\"quickchart('df-fbb6e3be-c14e-4420-b0dc-11f47458d36a')\"\n",
              "                title=\"Suggest charts\"\n",
              "                style=\"display:none;\">\n",
              "\n",
              "<svg xmlns=\"http://www.w3.org/2000/svg\" height=\"24px\"viewBox=\"0 0 24 24\"\n",
              "     width=\"24px\">\n",
              "    <g>\n",
              "        <path d=\"M19 3H5c-1.1 0-2 .9-2 2v14c0 1.1.9 2 2 2h14c1.1 0 2-.9 2-2V5c0-1.1-.9-2-2-2zM9 17H7v-7h2v7zm4 0h-2V7h2v10zm4 0h-2v-4h2v4z\"/>\n",
              "    </g>\n",
              "</svg>\n",
              "      </button>\n",
              "\n",
              "<style>\n",
              "  .colab-df-quickchart {\n",
              "      --bg-color: #E8F0FE;\n",
              "      --fill-color: #1967D2;\n",
              "      --hover-bg-color: #E2EBFA;\n",
              "      --hover-fill-color: #174EA6;\n",
              "      --disabled-fill-color: #AAA;\n",
              "      --disabled-bg-color: #DDD;\n",
              "  }\n",
              "\n",
              "  [theme=dark] .colab-df-quickchart {\n",
              "      --bg-color: #3B4455;\n",
              "      --fill-color: #D2E3FC;\n",
              "      --hover-bg-color: #434B5C;\n",
              "      --hover-fill-color: #FFFFFF;\n",
              "      --disabled-bg-color: #3B4455;\n",
              "      --disabled-fill-color: #666;\n",
              "  }\n",
              "\n",
              "  .colab-df-quickchart {\n",
              "    background-color: var(--bg-color);\n",
              "    border: none;\n",
              "    border-radius: 50%;\n",
              "    cursor: pointer;\n",
              "    display: none;\n",
              "    fill: var(--fill-color);\n",
              "    height: 32px;\n",
              "    padding: 0;\n",
              "    width: 32px;\n",
              "  }\n",
              "\n",
              "  .colab-df-quickchart:hover {\n",
              "    background-color: var(--hover-bg-color);\n",
              "    box-shadow: 0 1px 2px rgba(60, 64, 67, 0.3), 0 1px 3px 1px rgba(60, 64, 67, 0.15);\n",
              "    fill: var(--button-hover-fill-color);\n",
              "  }\n",
              "\n",
              "  .colab-df-quickchart-complete:disabled,\n",
              "  .colab-df-quickchart-complete:disabled:hover {\n",
              "    background-color: var(--disabled-bg-color);\n",
              "    fill: var(--disabled-fill-color);\n",
              "    box-shadow: none;\n",
              "  }\n",
              "\n",
              "  .colab-df-spinner {\n",
              "    border: 2px solid var(--fill-color);\n",
              "    border-color: transparent;\n",
              "    border-bottom-color: var(--fill-color);\n",
              "    animation:\n",
              "      spin 1s steps(1) infinite;\n",
              "  }\n",
              "\n",
              "  @keyframes spin {\n",
              "    0% {\n",
              "      border-color: transparent;\n",
              "      border-bottom-color: var(--fill-color);\n",
              "      border-left-color: var(--fill-color);\n",
              "    }\n",
              "    20% {\n",
              "      border-color: transparent;\n",
              "      border-left-color: var(--fill-color);\n",
              "      border-top-color: var(--fill-color);\n",
              "    }\n",
              "    30% {\n",
              "      border-color: transparent;\n",
              "      border-left-color: var(--fill-color);\n",
              "      border-top-color: var(--fill-color);\n",
              "      border-right-color: var(--fill-color);\n",
              "    }\n",
              "    40% {\n",
              "      border-color: transparent;\n",
              "      border-right-color: var(--fill-color);\n",
              "      border-top-color: var(--fill-color);\n",
              "    }\n",
              "    60% {\n",
              "      border-color: transparent;\n",
              "      border-right-color: var(--fill-color);\n",
              "    }\n",
              "    80% {\n",
              "      border-color: transparent;\n",
              "      border-right-color: var(--fill-color);\n",
              "      border-bottom-color: var(--fill-color);\n",
              "    }\n",
              "    90% {\n",
              "      border-color: transparent;\n",
              "      border-bottom-color: var(--fill-color);\n",
              "    }\n",
              "  }\n",
              "</style>\n",
              "\n",
              "      <script>\n",
              "        async function quickchart(key) {\n",
              "          const quickchartButtonEl =\n",
              "            document.querySelector('#' + key + ' button');\n",
              "          quickchartButtonEl.disabled = true;  // To prevent multiple clicks.\n",
              "          quickchartButtonEl.classList.add('colab-df-spinner');\n",
              "          try {\n",
              "            const charts = await google.colab.kernel.invokeFunction(\n",
              "                'suggestCharts', [key], {});\n",
              "          } catch (error) {\n",
              "            console.error('Error during call to suggestCharts:', error);\n",
              "          }\n",
              "          quickchartButtonEl.classList.remove('colab-df-spinner');\n",
              "          quickchartButtonEl.classList.add('colab-df-quickchart-complete');\n",
              "        }\n",
              "        (() => {\n",
              "          let quickchartButtonEl =\n",
              "            document.querySelector('#df-fbb6e3be-c14e-4420-b0dc-11f47458d36a button');\n",
              "          quickchartButtonEl.style.display =\n",
              "            google.colab.kernel.accessAllowed ? 'block' : 'none';\n",
              "        })();\n",
              "      </script>\n",
              "    </div>\n",
              "    </div>\n",
              "  </div>\n"
            ],
            "text/plain": [
              "                                    name  rating   price availability  \\\n",
              "0                   A Light in the Attic     3.0  £51.77     in stock   \n",
              "2                     Tipping the Velvet     1.0  £53.74     in stock   \n",
              "3                             Soumission     1.0  £50.10     in stock   \n",
              "4                          Sharp Objects     4.0  £47.82     in stock   \n",
              "5  Sapiens: A Brief History of Humankind     5.0  £54.23     in stock   \n",
              "\n",
              "             category               upc  \\\n",
              "0              Poetry  a897fe39b1053632   \n",
              "2  Historical Fiction  90fa61229261140a   \n",
              "3             Fiction  6957f44c3847a760   \n",
              "4             Mystery  e00eb4fd7b871a48   \n",
              "5             History  4165285e1663650f   \n",
              "\n",
              "                                            book_url  \n",
              "0  https://books.toscrape.com/catalogue/a-light-i...  \n",
              "2  https://books.toscrape.com/catalogue/tipping-t...  \n",
              "3  https://books.toscrape.com/catalogue/soumissio...  \n",
              "4  https://books.toscrape.com/catalogue/sharp-obj...  \n",
              "5  https://books.toscrape.com/catalogue/sapiens-a...  "
            ]
          },
          "execution_count": 66,
          "metadata": {},
          "output_type": "execute_result"
        }
      ],
      "source": [
        "final_df.head()"
      ]
    },
    {
      "cell_type": "code",
      "execution_count": null,
      "metadata": {
        "colab": {
          "base_uri": "https://localhost:8080/",
          "height": 206
        },
        "id": "Wv3T6q3OIgzS",
        "outputId": "e9980b89-e4ef-426d-9d93-df408cdb24c2"
      },
      "outputs": [
        {
          "data": {
            "application/vnd.google.colaboratory.intrinsic+json": {
              "summary": "{\n  \"name\": \"final_df\",\n  \"rows\": 5,\n  \"fields\": [\n    {\n      \"column\": \"name\",\n      \"properties\": {\n        \"dtype\": \"string\",\n        \"num_unique_values\": 5,\n        \"samples\": [\n          \"A Series of Catastrophes and Miracles: A True Story of Love, Science, and Cancer\",\n          \"A Distant Mirror: The Calamitous 14th Century\",\n          \"A People's History of the United States\"\n        ],\n        \"semantic_type\": \"\",\n        \"description\": \"\"\n      }\n    },\n    {\n      \"column\": \"rating\",\n      \"properties\": {\n        \"dtype\": \"number\",\n        \"std\": 0.7071067811865476,\n        \"min\": 1.0,\n        \"max\": 3.0,\n        \"num_unique_values\": 3,\n        \"samples\": [\n          2.0,\n          1.0,\n          3.0\n        ],\n        \"semantic_type\": \"\",\n        \"description\": \"\"\n      }\n    },\n    {\n      \"column\": \"price\",\n      \"properties\": {\n        \"dtype\": \"string\",\n        \"num_unique_values\": 5,\n        \"samples\": [\n          \"\\u00a356.48\",\n          \"\\u00a314.58\",\n          \"\\u00a340.79\"\n        ],\n        \"semantic_type\": \"\",\n        \"description\": \"\"\n      }\n    },\n    {\n      \"column\": \"availability\",\n      \"properties\": {\n        \"dtype\": \"category\",\n        \"num_unique_values\": 1,\n        \"samples\": [\n          \"in stock\"\n        ],\n        \"semantic_type\": \"\",\n        \"description\": \"\"\n      }\n    },\n    {\n      \"column\": \"category\",\n      \"properties\": {\n        \"dtype\": \"string\",\n        \"num_unique_values\": 4,\n        \"samples\": [\n          \"Add a comment\"\n        ],\n        \"semantic_type\": \"\",\n        \"description\": \"\"\n      }\n    },\n    {\n      \"column\": \"upc\",\n      \"properties\": {\n        \"dtype\": \"string\",\n        \"num_unique_values\": 5,\n        \"samples\": [\n          \"c1379d3744f1dd2c\"\n        ],\n        \"semantic_type\": \"\",\n        \"description\": \"\"\n      }\n    },\n    {\n      \"column\": \"book_url\",\n      \"properties\": {\n        \"dtype\": \"string\",\n        \"num_unique_values\": 5,\n        \"samples\": [\n          \"https://books.toscrape.com/catalogue/a-series-of-catastrophes-and-miracles-a-true-story-of-love-science-and-cancer_655/index.html\"\n        ],\n        \"semantic_type\": \"\",\n        \"description\": \"\"\n      }\n    }\n  ]\n}",
              "type": "dataframe"
            },
            "text/html": [
              "\n",
              "  <div id=\"df-7b9dd1a1-71f9-4ee8-9f2e-fbaad97ac469\" class=\"colab-df-container\">\n",
              "    <div>\n",
              "<style scoped>\n",
              "    .dataframe tbody tr th:only-of-type {\n",
              "        vertical-align: middle;\n",
              "    }\n",
              "\n",
              "    .dataframe tbody tr th {\n",
              "        vertical-align: top;\n",
              "    }\n",
              "\n",
              "    .dataframe thead th {\n",
              "        text-align: right;\n",
              "    }\n",
              "</style>\n",
              "<table border=\"1\" class=\"dataframe\">\n",
              "  <thead>\n",
              "    <tr style=\"text-align: right;\">\n",
              "      <th></th>\n",
              "      <th>name</th>\n",
              "      <th>rating</th>\n",
              "      <th>price</th>\n",
              "      <th>availability</th>\n",
              "      <th>category</th>\n",
              "      <th>upc</th>\n",
              "      <th>book_url</th>\n",
              "    </tr>\n",
              "  </thead>\n",
              "  <tbody>\n",
              "    <tr>\n",
              "      <th>345</th>\n",
              "      <td>A Study in Scarlet (Sherlock Holmes #1)</td>\n",
              "      <td>2.0</td>\n",
              "      <td>£16.73</td>\n",
              "      <td>in stock</td>\n",
              "      <td>Mystery</td>\n",
              "      <td>63ee5bc46066a8a8</td>\n",
              "      <td>https://books.toscrape.com/catalogue/a-study-i...</td>\n",
              "    </tr>\n",
              "    <tr>\n",
              "      <th>346</th>\n",
              "      <td>A Series of Catastrophes and Miracles: A True ...</td>\n",
              "      <td>2.0</td>\n",
              "      <td>£56.48</td>\n",
              "      <td>in stock</td>\n",
              "      <td>Add a comment</td>\n",
              "      <td>c1379d3744f1dd2c</td>\n",
              "      <td>https://books.toscrape.com/catalogue/a-series-...</td>\n",
              "    </tr>\n",
              "    <tr>\n",
              "      <th>347</th>\n",
              "      <td>A People's History of the United States</td>\n",
              "      <td>2.0</td>\n",
              "      <td>£40.79</td>\n",
              "      <td>in stock</td>\n",
              "      <td>Add a comment</td>\n",
              "      <td>1ad06aed9349af46</td>\n",
              "      <td>https://books.toscrape.com/catalogue/a-peoples...</td>\n",
              "    </tr>\n",
              "    <tr>\n",
              "      <th>348</th>\n",
              "      <td>A Man Called Ove</td>\n",
              "      <td>1.0</td>\n",
              "      <td>£39.72</td>\n",
              "      <td>in stock</td>\n",
              "      <td>Fiction</td>\n",
              "      <td>8682c03de6a844ff</td>\n",
              "      <td>https://books.toscrape.com/catalogue/a-man-cal...</td>\n",
              "    </tr>\n",
              "    <tr>\n",
              "      <th>349</th>\n",
              "      <td>A Distant Mirror: The Calamitous 14th Century</td>\n",
              "      <td>3.0</td>\n",
              "      <td>£14.58</td>\n",
              "      <td>in stock</td>\n",
              "      <td>History</td>\n",
              "      <td>d5e0526e1ab682a3</td>\n",
              "      <td>https://books.toscrape.com/catalogue/a-distant...</td>\n",
              "    </tr>\n",
              "  </tbody>\n",
              "</table>\n",
              "</div>\n",
              "    <div class=\"colab-df-buttons\">\n",
              "\n",
              "  <div class=\"colab-df-container\">\n",
              "    <button class=\"colab-df-convert\" onclick=\"convertToInteractive('df-7b9dd1a1-71f9-4ee8-9f2e-fbaad97ac469')\"\n",
              "            title=\"Convert this dataframe to an interactive table.\"\n",
              "            style=\"display:none;\">\n",
              "\n",
              "  <svg xmlns=\"http://www.w3.org/2000/svg\" height=\"24px\" viewBox=\"0 -960 960 960\">\n",
              "    <path d=\"M120-120v-720h720v720H120Zm60-500h600v-160H180v160Zm220 220h160v-160H400v160Zm0 220h160v-160H400v160ZM180-400h160v-160H180v160Zm440 0h160v-160H620v160ZM180-180h160v-160H180v160Zm440 0h160v-160H620v160Z\"/>\n",
              "  </svg>\n",
              "    </button>\n",
              "\n",
              "  <style>\n",
              "    .colab-df-container {\n",
              "      display:flex;\n",
              "      gap: 12px;\n",
              "    }\n",
              "\n",
              "    .colab-df-convert {\n",
              "      background-color: #E8F0FE;\n",
              "      border: none;\n",
              "      border-radius: 50%;\n",
              "      cursor: pointer;\n",
              "      display: none;\n",
              "      fill: #1967D2;\n",
              "      height: 32px;\n",
              "      padding: 0 0 0 0;\n",
              "      width: 32px;\n",
              "    }\n",
              "\n",
              "    .colab-df-convert:hover {\n",
              "      background-color: #E2EBFA;\n",
              "      box-shadow: 0px 1px 2px rgba(60, 64, 67, 0.3), 0px 1px 3px 1px rgba(60, 64, 67, 0.15);\n",
              "      fill: #174EA6;\n",
              "    }\n",
              "\n",
              "    .colab-df-buttons div {\n",
              "      margin-bottom: 4px;\n",
              "    }\n",
              "\n",
              "    [theme=dark] .colab-df-convert {\n",
              "      background-color: #3B4455;\n",
              "      fill: #D2E3FC;\n",
              "    }\n",
              "\n",
              "    [theme=dark] .colab-df-convert:hover {\n",
              "      background-color: #434B5C;\n",
              "      box-shadow: 0px 1px 3px 1px rgba(0, 0, 0, 0.15);\n",
              "      filter: drop-shadow(0px 1px 2px rgba(0, 0, 0, 0.3));\n",
              "      fill: #FFFFFF;\n",
              "    }\n",
              "  </style>\n",
              "\n",
              "    <script>\n",
              "      const buttonEl =\n",
              "        document.querySelector('#df-7b9dd1a1-71f9-4ee8-9f2e-fbaad97ac469 button.colab-df-convert');\n",
              "      buttonEl.style.display =\n",
              "        google.colab.kernel.accessAllowed ? 'block' : 'none';\n",
              "\n",
              "      async function convertToInteractive(key) {\n",
              "        const element = document.querySelector('#df-7b9dd1a1-71f9-4ee8-9f2e-fbaad97ac469');\n",
              "        const dataTable =\n",
              "          await google.colab.kernel.invokeFunction('convertToInteractive',\n",
              "                                                    [key], {});\n",
              "        if (!dataTable) return;\n",
              "\n",
              "        const docLinkHtml = 'Like what you see? Visit the ' +\n",
              "          '<a target=\"_blank\" href=https://colab.research.google.com/notebooks/data_table.ipynb>data table notebook</a>'\n",
              "          + ' to learn more about interactive tables.';\n",
              "        element.innerHTML = '';\n",
              "        dataTable['output_type'] = 'display_data';\n",
              "        await google.colab.output.renderOutput(dataTable, element);\n",
              "        const docLink = document.createElement('div');\n",
              "        docLink.innerHTML = docLinkHtml;\n",
              "        element.appendChild(docLink);\n",
              "      }\n",
              "    </script>\n",
              "  </div>\n",
              "\n",
              "\n",
              "    <div id=\"df-966adda1-def7-420b-8da1-2f9eebf186b0\">\n",
              "      <button class=\"colab-df-quickchart\" onclick=\"quickchart('df-966adda1-def7-420b-8da1-2f9eebf186b0')\"\n",
              "                title=\"Suggest charts\"\n",
              "                style=\"display:none;\">\n",
              "\n",
              "<svg xmlns=\"http://www.w3.org/2000/svg\" height=\"24px\"viewBox=\"0 0 24 24\"\n",
              "     width=\"24px\">\n",
              "    <g>\n",
              "        <path d=\"M19 3H5c-1.1 0-2 .9-2 2v14c0 1.1.9 2 2 2h14c1.1 0 2-.9 2-2V5c0-1.1-.9-2-2-2zM9 17H7v-7h2v7zm4 0h-2V7h2v10zm4 0h-2v-4h2v4z\"/>\n",
              "    </g>\n",
              "</svg>\n",
              "      </button>\n",
              "\n",
              "<style>\n",
              "  .colab-df-quickchart {\n",
              "      --bg-color: #E8F0FE;\n",
              "      --fill-color: #1967D2;\n",
              "      --hover-bg-color: #E2EBFA;\n",
              "      --hover-fill-color: #174EA6;\n",
              "      --disabled-fill-color: #AAA;\n",
              "      --disabled-bg-color: #DDD;\n",
              "  }\n",
              "\n",
              "  [theme=dark] .colab-df-quickchart {\n",
              "      --bg-color: #3B4455;\n",
              "      --fill-color: #D2E3FC;\n",
              "      --hover-bg-color: #434B5C;\n",
              "      --hover-fill-color: #FFFFFF;\n",
              "      --disabled-bg-color: #3B4455;\n",
              "      --disabled-fill-color: #666;\n",
              "  }\n",
              "\n",
              "  .colab-df-quickchart {\n",
              "    background-color: var(--bg-color);\n",
              "    border: none;\n",
              "    border-radius: 50%;\n",
              "    cursor: pointer;\n",
              "    display: none;\n",
              "    fill: var(--fill-color);\n",
              "    height: 32px;\n",
              "    padding: 0;\n",
              "    width: 32px;\n",
              "  }\n",
              "\n",
              "  .colab-df-quickchart:hover {\n",
              "    background-color: var(--hover-bg-color);\n",
              "    box-shadow: 0 1px 2px rgba(60, 64, 67, 0.3), 0 1px 3px 1px rgba(60, 64, 67, 0.15);\n",
              "    fill: var(--button-hover-fill-color);\n",
              "  }\n",
              "\n",
              "  .colab-df-quickchart-complete:disabled,\n",
              "  .colab-df-quickchart-complete:disabled:hover {\n",
              "    background-color: var(--disabled-bg-color);\n",
              "    fill: var(--disabled-fill-color);\n",
              "    box-shadow: none;\n",
              "  }\n",
              "\n",
              "  .colab-df-spinner {\n",
              "    border: 2px solid var(--fill-color);\n",
              "    border-color: transparent;\n",
              "    border-bottom-color: var(--fill-color);\n",
              "    animation:\n",
              "      spin 1s steps(1) infinite;\n",
              "  }\n",
              "\n",
              "  @keyframes spin {\n",
              "    0% {\n",
              "      border-color: transparent;\n",
              "      border-bottom-color: var(--fill-color);\n",
              "      border-left-color: var(--fill-color);\n",
              "    }\n",
              "    20% {\n",
              "      border-color: transparent;\n",
              "      border-left-color: var(--fill-color);\n",
              "      border-top-color: var(--fill-color);\n",
              "    }\n",
              "    30% {\n",
              "      border-color: transparent;\n",
              "      border-left-color: var(--fill-color);\n",
              "      border-top-color: var(--fill-color);\n",
              "      border-right-color: var(--fill-color);\n",
              "    }\n",
              "    40% {\n",
              "      border-color: transparent;\n",
              "      border-right-color: var(--fill-color);\n",
              "      border-top-color: var(--fill-color);\n",
              "    }\n",
              "    60% {\n",
              "      border-color: transparent;\n",
              "      border-right-color: var(--fill-color);\n",
              "    }\n",
              "    80% {\n",
              "      border-color: transparent;\n",
              "      border-right-color: var(--fill-color);\n",
              "      border-bottom-color: var(--fill-color);\n",
              "    }\n",
              "    90% {\n",
              "      border-color: transparent;\n",
              "      border-bottom-color: var(--fill-color);\n",
              "    }\n",
              "  }\n",
              "</style>\n",
              "\n",
              "      <script>\n",
              "        async function quickchart(key) {\n",
              "          const quickchartButtonEl =\n",
              "            document.querySelector('#' + key + ' button');\n",
              "          quickchartButtonEl.disabled = true;  // To prevent multiple clicks.\n",
              "          quickchartButtonEl.classList.add('colab-df-spinner');\n",
              "          try {\n",
              "            const charts = await google.colab.kernel.invokeFunction(\n",
              "                'suggestCharts', [key], {});\n",
              "          } catch (error) {\n",
              "            console.error('Error during call to suggestCharts:', error);\n",
              "          }\n",
              "          quickchartButtonEl.classList.remove('colab-df-spinner');\n",
              "          quickchartButtonEl.classList.add('colab-df-quickchart-complete');\n",
              "        }\n",
              "        (() => {\n",
              "          let quickchartButtonEl =\n",
              "            document.querySelector('#df-966adda1-def7-420b-8da1-2f9eebf186b0 button');\n",
              "          quickchartButtonEl.style.display =\n",
              "            google.colab.kernel.accessAllowed ? 'block' : 'none';\n",
              "        })();\n",
              "      </script>\n",
              "    </div>\n",
              "    </div>\n",
              "  </div>\n"
            ],
            "text/plain": [
              "                                                  name  rating   price  \\\n",
              "345            A Study in Scarlet (Sherlock Holmes #1)     2.0  £16.73   \n",
              "346  A Series of Catastrophes and Miracles: A True ...     2.0  £56.48   \n",
              "347            A People's History of the United States     2.0  £40.79   \n",
              "348                                   A Man Called Ove     1.0  £39.72   \n",
              "349      A Distant Mirror: The Calamitous 14th Century     3.0  £14.58   \n",
              "\n",
              "    availability       category               upc  \\\n",
              "345     in stock        Mystery  63ee5bc46066a8a8   \n",
              "346     in stock  Add a comment  c1379d3744f1dd2c   \n",
              "347     in stock  Add a comment  1ad06aed9349af46   \n",
              "348     in stock        Fiction  8682c03de6a844ff   \n",
              "349     in stock        History  d5e0526e1ab682a3   \n",
              "\n",
              "                                              book_url  \n",
              "345  https://books.toscrape.com/catalogue/a-study-i...  \n",
              "346  https://books.toscrape.com/catalogue/a-series-...  \n",
              "347  https://books.toscrape.com/catalogue/a-peoples...  \n",
              "348  https://books.toscrape.com/catalogue/a-man-cal...  \n",
              "349  https://books.toscrape.com/catalogue/a-distant...  "
            ]
          },
          "execution_count": 67,
          "metadata": {},
          "output_type": "execute_result"
        }
      ],
      "source": [
        "final_df.tail()"
      ]
    },
    {
      "cell_type": "markdown",
      "metadata": {
        "id": "CSJijjxbFugq"
      },
      "source": [
        "Отлично! Всё работает, книги качаются, данные наполняются и всё было бы хорошо, если бы не одно но — количество запросов, которое нам придётся сделать, чтобы всё получить."
      ]
    },
    {
      "cell_type": "markdown",
      "metadata": {
        "id": "KanuGui9Fugq"
      },
      "source": [
        "## 2.2 Тор - сын Одина\n",
        "\n",
        "Иногда **серверу надоедает общаться с одним и тем же человеком, делающим кучу запросов и сервер банит его**. К сожалению, не только у людей запас терпения ограничен.\n",
        "\n",
        "Приходится маскироваться. Для такой маскировки можно использовать разные способы, более того, один из них мы уже использовали, когда притворились человеком в нашем `request-header`. Для текущей же задачи, **когда нас вероломно заблокировали по IP, нужно искать способы помощнее, чтобы иметь возможность этот IP менять**. Конечно, как вариант можно было бы использовать прокси-сервера, тогда мы бы имели в запасе некоторое количество разных IP адресов, которые можно подставлять по мере \"забанивания\". Однако в этом подходе есть пара проблем: первая - нужно где-то раздобыть эти прокси, вторая - а что если ограниченного числа адресов нам не хватит и нужно больше?\n",
        "\n",
        "В таком случае лучше всего нам подойдёт [Tor](https://www.torproject.org/). Вопреки пропагандируемому мнению, Tor используется не только преступниками, педофилами и прочими нехорошими террористами. Это, мягко говоря, далеко не так, и мы, мирные собиратели данных, являемся тому подтверждением. Всем прелестям, связанным с работой Tor, можно было бы посвятить несколько больших статеек, что собственно говоря уже и сделано. Подробнее про это можно почитатать по следующим ссылкам:\n",
        "\n",
        "* [Как работает Tor](https://geektimes.ru/post/277578/)\n",
        "* [Методы анонимности в сети](https://habrahabr.ru/post/204266/)\n",
        "* [Прокси-сервер с помощью Tor](https://habrahabr.ru/company/etagi/blog/315002/)\n",
        "\n"
      ]
    },
    {
      "cell_type": "code",
      "execution_count": null,
      "metadata": {
        "id": "rAL-xWrQFugr"
      },
      "outputs": [],
      "source": [
        "def checkIP():\n",
        "    ip = requests.get('http://checkip.dyndns.org').content\n",
        "    soup = BeautifulSoup(ip, 'html.parser')\n",
        "    print(soup.find('body').text)"
      ]
    },
    {
      "cell_type": "code",
      "execution_count": null,
      "metadata": {
        "colab": {
          "base_uri": "https://localhost:8080/"
        },
        "id": "DshD-B1ZFugr",
        "outputId": "49491d69-054f-4f49-f3bd-f1e7ac464ccd"
      },
      "outputs": [
        {
          "name": "stdout",
          "output_type": "stream",
          "text": [
            "Current IP Address: 34.125.195.24\n"
          ]
        }
      ],
      "source": [
        "checkIP()"
      ]
    },
    {
      "cell_type": "markdown",
      "metadata": {
        "id": "-lVT1VK3Fugt"
      },
      "source": [
        "\n",
        "\n",
        "\n",
        "## Почиташки\n",
        "\n",
        "* [Неплохая инструкция](https://jarroba.com/anonymous-scraping-by-tor-network/) о самостоятельном парсинге через Tor без использования чужих готовых классов.\n",
        "* [Оригинальный кодекс](http://starwars.wikia.com/wiki/Code_of_the_Sith) адепта тёмной стороны силы."
      ]
    },
    {
      "cell_type": "code",
      "execution_count": null,
      "metadata": {
        "id": "9jDW-zBWFugt"
      },
      "outputs": [],
      "source": []
    }
  ],
  "metadata": {
    "colab": {
      "provenance": []
    },
    "kernelspec": {
      "display_name": ".venv",
      "language": "python",
      "name": "python3"
    },
    "language_info": {
      "codemirror_mode": {
        "name": "ipython",
        "version": 3
      },
      "file_extension": ".py",
      "mimetype": "text/x-python",
      "name": "python",
      "nbconvert_exporter": "python",
      "pygments_lexer": "ipython3",
      "version": "3.11.2"
    },
    "varInspector": {
      "cols": {
        "lenName": 16,
        "lenType": 16,
        "lenVar": 40
      },
      "kernels_config": {
        "python": {
          "delete_cmd_postfix": "",
          "delete_cmd_prefix": "del ",
          "library": "var_list.py",
          "varRefreshCmd": "print(var_dic_list())"
        },
        "r": {
          "delete_cmd_postfix": ") ",
          "delete_cmd_prefix": "rm(",
          "library": "var_list.r",
          "varRefreshCmd": "cat(var_dic_list()) "
        }
      },
      "types_to_exclude": [
        "module",
        "function",
        "builtin_function_or_method",
        "instance",
        "_Feature"
      ],
      "window_display": false
    }
  },
  "nbformat": 4,
  "nbformat_minor": 0
}
